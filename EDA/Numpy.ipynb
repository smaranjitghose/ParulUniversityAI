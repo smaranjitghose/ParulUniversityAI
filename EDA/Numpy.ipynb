{
  "cells": [
    {
      "cell_type": "code",
      "execution_count": null,
      "metadata": {
        "id": "IHAnE3-Qsgl7",
        "colab": {
          "base_uri": "https://localhost:8080/"
        },
        "outputId": "956dae9a-f063-4304-e377-29212b6dd973"
      },
      "outputs": [
        {
          "output_type": "stream",
          "name": "stdout",
          "text": [
            "Looking in indexes: https://pypi.org/simple, https://us-python.pkg.dev/colab-wheels/public/simple/\n",
            "Requirement already satisfied: numpy in /usr/local/lib/python3.10/dist-packages (1.22.4)\n"
          ]
        }
      ],
      "source": [
        "# Installation\n",
        "!pip install numpy"
      ]
    },
    {
      "cell_type": "code",
      "execution_count": null,
      "metadata": {
        "id": "-566NLa7WOa4"
      },
      "outputs": [],
      "source": [
        "import numpy as np"
      ]
    },
    {
      "cell_type": "code",
      "execution_count": null,
      "metadata": {
        "id": "0DarPlfMYwu_"
      },
      "outputs": [],
      "source": [
        "arr = np.array([10, 20, 30, 40, 50])"
      ]
    },
    {
      "cell_type": "code",
      "execution_count": null,
      "metadata": {
        "colab": {
          "base_uri": "https://localhost:8080/"
        },
        "id": "HK4jeb8nZ34q",
        "outputId": "1925a013-46d3-4af6-c978-0c8d26b94449"
      },
      "outputs": [
        {
          "output_type": "stream",
          "name": "stdout",
          "text": [
            "[10 20 30 40 50]\n"
          ]
        }
      ],
      "source": [
        "print(arr)"
      ]
    },
    {
      "cell_type": "code",
      "execution_count": null,
      "metadata": {
        "id": "-WXYfmmCuEMH"
      },
      "outputs": [],
      "source": [
        "%%timeit\n",
        "sum = 0\n",
        "x = list(range(100000))\n",
        "for i in x:\n",
        "  sum = sum + i"
      ]
    },
    {
      "cell_type": "code",
      "execution_count": null,
      "metadata": {
        "id": "qdbzU9c6uYFr"
      },
      "outputs": [],
      "source": [
        "%%timeit\n",
        "sum = 0\n",
        "x_a = np.arange(100000)\n",
        "for i in x_a:\n",
        "  sum = sum + i"
      ]
    },
    {
      "cell_type": "code",
      "execution_count": null,
      "metadata": {
        "colab": {
          "base_uri": "https://localhost:8080/"
        },
        "id": "ToUmAtXhZ37r",
        "outputId": "5c8d098d-b260-43ac-be93-a6a479e3bc92"
      },
      "outputs": [
        {
          "output_type": "execute_result",
          "data": {
            "text/plain": [
              "5"
            ]
          },
          "metadata": {},
          "execution_count": 10
        }
      ],
      "source": [
        "arr.size"
      ]
    },
    {
      "cell_type": "code",
      "execution_count": null,
      "metadata": {
        "colab": {
          "base_uri": "https://localhost:8080/"
        },
        "id": "el_1_WsgZ4Ba",
        "outputId": "53e66a24-5936-4bca-8154-e2b68017ae1f"
      },
      "outputs": [
        {
          "output_type": "execute_result",
          "data": {
            "text/plain": [
              "1"
            ]
          },
          "metadata": {},
          "execution_count": 11
        }
      ],
      "source": [
        "arr.ndim"
      ]
    },
    {
      "cell_type": "code",
      "execution_count": null,
      "metadata": {
        "colab": {
          "base_uri": "https://localhost:8080/"
        },
        "id": "5648gKnWZ4EM",
        "outputId": "4aa0cd22-95c3-4361-fee7-74ff99863c79"
      },
      "outputs": [
        {
          "output_type": "execute_result",
          "data": {
            "text/plain": [
              "(5,)"
            ]
          },
          "metadata": {},
          "execution_count": 12
        }
      ],
      "source": [
        "arr.shape"
      ]
    },
    {
      "cell_type": "code",
      "execution_count": null,
      "metadata": {
        "colab": {
          "base_uri": "https://localhost:8080/"
        },
        "id": "SEMXGONBZ4G-",
        "outputId": "0368dbf5-ffad-49e7-87d4-ed63ffa9efe5"
      },
      "outputs": [
        {
          "output_type": "execute_result",
          "data": {
            "text/plain": [
              "5"
            ]
          },
          "metadata": {},
          "execution_count": 13
        }
      ],
      "source": [
        "len(arr)"
      ]
    },
    {
      "cell_type": "markdown",
      "metadata": {
        "id": "ULbxpyOmaM3F"
      },
      "source": [
        "## Two Dimensional Array"
      ]
    },
    {
      "cell_type": "code",
      "execution_count": null,
      "metadata": {
        "id": "CK2ZU8sHZ4JU"
      },
      "outputs": [],
      "source": [
        "arr_2d = np.array([\n",
        "    [10, 20, 30, 40, 50],\n",
        "    [100, 200, 300, 400, 500]\n",
        "])\n"
      ]
    },
    {
      "cell_type": "code",
      "execution_count": null,
      "metadata": {
        "colab": {
          "base_uri": "https://localhost:8080/"
        },
        "id": "gBfx-TLdaPuc",
        "outputId": "1d7764a0-a05c-41d6-b60c-a8d4f31af598"
      },
      "outputs": [
        {
          "output_type": "stream",
          "name": "stdout",
          "text": [
            "[[ 10  20  30  40  50]\n",
            " [100 200 300 400 500]]\n"
          ]
        }
      ],
      "source": [
        "print(arr_2d)"
      ]
    },
    {
      "cell_type": "code",
      "execution_count": null,
      "metadata": {
        "colab": {
          "base_uri": "https://localhost:8080/"
        },
        "id": "D5BKiRJHaP0B",
        "outputId": "2aafaf5b-1620-4efe-b671-8809df3f4641"
      },
      "outputs": [
        {
          "output_type": "execute_result",
          "data": {
            "text/plain": [
              "10"
            ]
          },
          "metadata": {},
          "execution_count": 16
        }
      ],
      "source": [
        "# Check its size\n",
        "arr_2d.size"
      ]
    },
    {
      "cell_type": "code",
      "execution_count": null,
      "metadata": {
        "colab": {
          "base_uri": "https://localhost:8080/"
        },
        "id": "xu-HzBXDaPxZ",
        "outputId": "0f04cf30-ff39-4e39-ce1a-a11f98e11ac7"
      },
      "outputs": [
        {
          "output_type": "execute_result",
          "data": {
            "text/plain": [
              "2"
            ]
          },
          "metadata": {},
          "execution_count": 17
        }
      ],
      "source": [
        "# Check its dimensionality\n",
        "arr_2d.ndim"
      ]
    },
    {
      "cell_type": "code",
      "execution_count": null,
      "metadata": {
        "colab": {
          "base_uri": "https://localhost:8080/"
        },
        "id": "9H2vdt2aaP2n",
        "outputId": "4b6d84af-a320-48f3-8f78-c18de7a0020d"
      },
      "outputs": [
        {
          "output_type": "execute_result",
          "data": {
            "text/plain": [
              "(2, 5)"
            ]
          },
          "metadata": {},
          "execution_count": 18
        }
      ],
      "source": [
        "# Check its shape\n",
        "arr_2d.shape"
      ]
    },
    {
      "cell_type": "code",
      "execution_count": null,
      "metadata": {
        "id": "pP6GRx3CaP5I",
        "colab": {
          "base_uri": "https://localhost:8080/"
        },
        "outputId": "1843bd15-5a4d-4b42-de59-40818ad185f0"
      },
      "outputs": [
        {
          "output_type": "execute_result",
          "data": {
            "text/plain": [
              "2"
            ]
          },
          "metadata": {},
          "execution_count": 19
        }
      ],
      "source": [
        "len(arr_2d)"
      ]
    },
    {
      "cell_type": "code",
      "execution_count": null,
      "metadata": {
        "colab": {
          "base_uri": "https://localhost:8080/"
        },
        "id": "Z87apnogv07p",
        "outputId": "b5b77722-19fb-436e-89fc-c001b44f5f6c"
      },
      "outputs": [
        {
          "output_type": "execute_result",
          "data": {
            "text/plain": [
              "list"
            ]
          },
          "metadata": {},
          "execution_count": 20
        }
      ],
      "source": [
        "type([[1,2,3,4],[5,6,7,8]])"
      ]
    },
    {
      "cell_type": "code",
      "execution_count": null,
      "metadata": {
        "colab": {
          "base_uri": "https://localhost:8080/"
        },
        "id": "YkqwETKYaP7v",
        "outputId": "ac9720f4-f887-45b8-8fa5-ad116dd7ef1c"
      },
      "outputs": [
        {
          "output_type": "execute_result",
          "data": {
            "text/plain": [
              "numpy.ndarray"
            ]
          },
          "metadata": {},
          "execution_count": 22
        }
      ],
      "source": [
        "# Check the object's type\n",
        "type(arr_2d)"
      ]
    },
    {
      "cell_type": "code",
      "execution_count": null,
      "metadata": {
        "colab": {
          "base_uri": "https://localhost:8080/"
        },
        "id": "S-3ZNp-Aawrm",
        "outputId": "25a57fc3-834e-4826-a8a0-87a2a16cd322"
      },
      "outputs": [
        {
          "output_type": "execute_result",
          "data": {
            "text/plain": [
              "dtype('int64')"
            ]
          },
          "metadata": {},
          "execution_count": 23
        }
      ],
      "source": [
        "# Check datatype of array elements\n",
        "arr_2d.dtype"
      ]
    },
    {
      "cell_type": "markdown",
      "metadata": {
        "id": "AV9sw8iPa_rm"
      },
      "source": [
        "# Rules For Every NumPy Array\n",
        "There are two basic rules for every numpy array..\n",
        "\n",
        "Every element in the array must be of the same type and size.\n",
        "If an array's elements are also arrays, those inner arrays must have the same type and number of elements as each other. In other words, multidimensional arrays must be rectangular, not jagged"
      ]
    },
    {
      "cell_type": "code",
      "execution_count": null,
      "metadata": {
        "id": "LqhBOWLcawvM"
      },
      "outputs": [],
      "source": [
        "np.array([1, 2, 3])"
      ]
    },
    {
      "cell_type": "code",
      "execution_count": null,
      "metadata": {
        "colab": {
          "base_uri": "https://localhost:8080/"
        },
        "id": "GQlrHhJDawx9",
        "outputId": "179d55a6-f962-48d5-a368-120f29f157a3"
      },
      "outputs": [
        {
          "output_type": "execute_result",
          "data": {
            "text/plain": [
              "array(['1', 'hello', '3'], dtype='<U21')"
            ]
          },
          "metadata": {},
          "execution_count": 24
        }
      ],
      "source": [
        "np.array([1, 'hello', 3])"
      ]
    },
    {
      "cell_type": "markdown",
      "metadata": {
        "id": "C51pC5mabJE-"
      },
      "source": [
        "If you try to make an array from a list that contains a mix of integers and strings, numpy doesn't error. But, it casts the integers to strings in order to satisfy the property that every element is the same type."
      ]
    },
    {
      "cell_type": "code",
      "execution_count": null,
      "metadata": {
        "id": "SUkn2iHFbIKr",
        "colab": {
          "base_uri": "https://localhost:8080/"
        },
        "outputId": "466760e7-9fe5-41fa-d14a-56f87887b46f"
      },
      "outputs": [
        {
          "output_type": "stream",
          "name": "stderr",
          "text": [
            "<ipython-input-25-034e6ba25560>:1: VisibleDeprecationWarning: Creating an ndarray from ragged nested sequences (which is a list-or-tuple of lists-or-tuples-or ndarrays with different lengths or shapes) is deprecated. If you meant to do this, you must specify 'dtype=object' when creating the ndarray.\n",
            "  np.array([\n"
          ]
        },
        {
          "output_type": "execute_result",
          "data": {
            "text/plain": [
              "array([list([1, 2, 3, 4]), list([5, 6])], dtype=object)"
            ]
          },
          "metadata": {},
          "execution_count": 25
        }
      ],
      "source": [
        "np.array([\n",
        "    [1, 2, 3, 4],\n",
        "    [5, 6]\n",
        "])"
      ]
    },
    {
      "cell_type": "markdown",
      "metadata": {
        "id": "ZfU1nMr4bRzi"
      },
      "source": [
        "If you try to make an array from jagged lists like this, numpy doesn't error but it creates an array of objects. This means the array is essentially a Python list and lacks the performance benefits of using an array."
      ]
    },
    {
      "cell_type": "markdown",
      "metadata": {
        "id": "002ZQ0RdbUnX"
      },
      "source": [
        "# Creating Numpy Arrays"
      ]
    },
    {
      "cell_type": "code",
      "execution_count": null,
      "metadata": {
        "id": "7EmkkxIubIWx",
        "colab": {
          "base_uri": "https://localhost:8080/"
        },
        "outputId": "121b5c2f-44ae-4aa1-916b-0393825c129c"
      },
      "outputs": [
        {
          "output_type": "execute_result",
          "data": {
            "text/plain": [
              "array(['a', 'b', 'c'], dtype='<U1')"
            ]
          },
          "metadata": {},
          "execution_count": 26
        }
      ],
      "source": [
        "# Make 1D Array from a list\n",
        "np.array(['a', 'b', 'c'])"
      ]
    },
    {
      "cell_type": "code",
      "execution_count": null,
      "metadata": {
        "id": "1HIuX2_qbIhB",
        "colab": {
          "base_uri": "https://localhost:8080/"
        },
        "outputId": "29248c9a-c82b-498a-cf24-f7c94c0935a0"
      },
      "outputs": [
        {
          "output_type": "execute_result",
          "data": {
            "text/plain": [
              "array([['a', 'b'],\n",
              "       ['c', 'd'],\n",
              "       ['e', 'f']], dtype='<U1')"
            ]
          },
          "metadata": {},
          "execution_count": 27
        }
      ],
      "source": [
        "# Make 2D Array from a list of lists\n",
        "np.array([\n",
        "    ['a', 'b'],\n",
        "    ['c', 'd'],\n",
        "    ['e', 'f']\n",
        "])"
      ]
    },
    {
      "cell_type": "code",
      "execution_count": null,
      "metadata": {
        "id": "0wpdexvNbkja",
        "colab": {
          "base_uri": "https://localhost:8080/"
        },
        "outputId": "48c37938-cc54-49e0-8952-6137f2537e65"
      },
      "outputs": [
        {
          "output_type": "execute_result",
          "data": {
            "text/plain": [
              "array([[['a', 'b'],\n",
              "        ['c', 'd'],\n",
              "        ['e', 'f']],\n",
              "\n",
              "       [['g', 'h'],\n",
              "        ['i', 'j'],\n",
              "        ['k', 'l']]], dtype='<U1')"
            ]
          },
          "metadata": {},
          "execution_count": 28
        }
      ],
      "source": [
        "# Make a 3D Array from a list of list of lists\n",
        "np.array([\n",
        "    [\n",
        "        ['a', 'b'],\n",
        "        ['c', 'd'],\n",
        "        ['e', 'f']\n",
        "    ],\n",
        "    [\n",
        "        ['g', 'h'],\n",
        "        ['i', 'j'],\n",
        "        ['k', 'l']\n",
        "    ]\n",
        "])"
      ]
    },
    {
      "cell_type": "code",
      "execution_count": null,
      "metadata": {
        "colab": {
          "base_uri": "https://localhost:8080/"
        },
        "id": "5fmv0GN2bkmI",
        "outputId": "7705b6fe-8572-4087-9918-b0ba0e706201"
      },
      "outputs": [
        {
          "output_type": "execute_result",
          "data": {
            "text/plain": [
              "array([0., 0., 0.])"
            ]
          },
          "metadata": {},
          "execution_count": 29
        }
      ],
      "source": [
        "# Make Array of Zeros\n",
        "np.zeros(shape=3)"
      ]
    },
    {
      "cell_type": "code",
      "execution_count": null,
      "metadata": {
        "colab": {
          "base_uri": "https://localhost:8080/"
        },
        "id": "Xeyj47iCbkop",
        "outputId": "5f867273-d84d-4a5b-c471-03a0c56adc3c"
      },
      "outputs": [
        {
          "output_type": "execute_result",
          "data": {
            "text/plain": [
              "array([[0., 0., 0., 0., 0.],\n",
              "       [0., 0., 0., 0., 0.],\n",
              "       [0., 0., 0., 0., 0.]])"
            ]
          },
          "metadata": {},
          "execution_count": 30
        }
      ],
      "source": [
        "np.zeros(shape=(3,5))"
      ]
    },
    {
      "cell_type": "code",
      "execution_count": null,
      "metadata": {
        "colab": {
          "base_uri": "https://localhost:8080/"
        },
        "id": "Zcchjletbkrh",
        "outputId": "90cd8e1b-ef5e-415b-f99b-84f2be1a6630"
      },
      "outputs": [
        {
          "output_type": "execute_result",
          "data": {
            "text/plain": [
              "array([['PARUL', 'PARUL', 'PARUL', 'PARUL', 'PARUL'],\n",
              "       ['PARUL', 'PARUL', 'PARUL', 'PARUL', 'PARUL'],\n",
              "       ['PARUL', 'PARUL', 'PARUL', 'PARUL', 'PARUL']], dtype='<U5')"
            ]
          },
          "metadata": {},
          "execution_count": 31
        }
      ],
      "source": [
        "# Make an array filled with any value\n",
        "np.full(shape = (3,5), fill_value = 'PARUL')"
      ]
    },
    {
      "cell_type": "code",
      "execution_count": null,
      "metadata": {
        "colab": {
          "base_uri": "https://localhost:8080/"
        },
        "id": "NwyBW2xsbyky",
        "outputId": "9d1fa940-824e-49af-8488-72f31d46058c"
      },
      "outputs": [
        {
          "output_type": "execute_result",
          "data": {
            "text/plain": [
              "array([ 1,  5,  9, 13])"
            ]
          },
          "metadata": {},
          "execution_count": 32
        }
      ],
      "source": [
        "# How to make a sequence array 1, 2, ... N\n",
        "np.arange(start=1, stop=15, step=4)"
      ]
    },
    {
      "cell_type": "code",
      "execution_count": null,
      "metadata": {
        "id": "4zJJgOgZx4sG",
        "colab": {
          "base_uri": "https://localhost:8080/"
        },
        "outputId": "e694c877-873e-45c5-e905-95b8ee4a1770"
      },
      "outputs": [
        {
          "output_type": "execute_result",
          "data": {
            "text/plain": [
              "array([0, 1, 2, 3, 4, 5, 6, 7, 8, 9])"
            ]
          },
          "metadata": {},
          "execution_count": 33
        }
      ],
      "source": [
        "np.arange(10)"
      ]
    },
    {
      "cell_type": "markdown",
      "metadata": {
        "id": "hmQ52aEGcCJt"
      },
      "source": [
        "# Indexing in Arrays"
      ]
    },
    {
      "cell_type": "code",
      "execution_count": null,
      "metadata": {
        "id": "MZzFKD4XbynK"
      },
      "outputs": [],
      "source": [
        "foo = np.array([10, 20, 30, 40, 50])"
      ]
    },
    {
      "cell_type": "code",
      "execution_count": null,
      "metadata": {
        "colab": {
          "base_uri": "https://localhost:8080/"
        },
        "id": "fYrCZTJ6byqO",
        "outputId": "5784244b-8102-4512-9169-bb82b1efed08"
      },
      "outputs": [
        {
          "output_type": "stream",
          "name": "stdout",
          "text": [
            "[10 20 30 40 50]\n"
          ]
        }
      ],
      "source": [
        "print(foo)"
      ]
    },
    {
      "cell_type": "code",
      "execution_count": null,
      "metadata": {
        "colab": {
          "base_uri": "https://localhost:8080/"
        },
        "id": "acrRmGxgcTrn",
        "outputId": "f39e6fc7-ad45-4f03-dc4d-393c3dc3eab8"
      },
      "outputs": [
        {
          "output_type": "stream",
          "name": "stdout",
          "text": [
            "50\n",
            "20\n"
          ]
        }
      ],
      "source": [
        "# Accessing an element\n",
        "print(foo[4])\n",
        "print(foo[1])"
      ]
    },
    {
      "cell_type": "code",
      "execution_count": null,
      "metadata": {
        "colab": {
          "base_uri": "https://localhost:8080/"
        },
        "id": "3IEqg87rbysl",
        "outputId": "7e579a94-5c7c-4ede-985b-a57b453456ff"
      },
      "outputs": [
        {
          "output_type": "stream",
          "name": "stdout",
          "text": [
            "50\n",
            "40\n",
            "30\n"
          ]
        }
      ],
      "source": [
        "# Negative Indexing\n",
        "print(foo[-1])\n",
        "print(foo[-2])\n",
        "print(foo[-3])"
      ]
    },
    {
      "cell_type": "code",
      "execution_count": null,
      "metadata": {
        "colab": {
          "base_uri": "https://localhost:8080/",
          "height": 187
        },
        "id": "gSoBXejlbyvN",
        "outputId": "efce735e-3752-402b-c10c-361c761a3c7f"
      },
      "outputs": [
        {
          "output_type": "error",
          "ename": "IndexError",
          "evalue": "ignored",
          "traceback": [
            "\u001b[0;31m---------------------------------------------------------------------------\u001b[0m",
            "\u001b[0;31mIndexError\u001b[0m                                Traceback (most recent call last)",
            "\u001b[0;32m<ipython-input-38-bd9799b6b429>\u001b[0m in \u001b[0;36m<cell line: 2>\u001b[0;34m()\u001b[0m\n\u001b[1;32m      1\u001b[0m \u001b[0;31m# Out of bounds error\u001b[0m\u001b[0;34m\u001b[0m\u001b[0;34m\u001b[0m\u001b[0m\n\u001b[0;32m----> 2\u001b[0;31m \u001b[0mprint\u001b[0m\u001b[0;34m(\u001b[0m\u001b[0mfoo\u001b[0m\u001b[0;34m[\u001b[0m\u001b[0;36m999\u001b[0m\u001b[0;34m]\u001b[0m\u001b[0;34m)\u001b[0m\u001b[0;34m\u001b[0m\u001b[0;34m\u001b[0m\u001b[0m\n\u001b[0m",
            "\u001b[0;31mIndexError\u001b[0m: index 999 is out of bounds for axis 0 with size 5"
          ]
        }
      ],
      "source": [
        "# Out of bounds error\n",
        "print(foo[999])"
      ]
    },
    {
      "cell_type": "code",
      "execution_count": null,
      "metadata": {
        "colab": {
          "base_uri": "https://localhost:8080/"
        },
        "id": "znLl4F_zcPg6",
        "outputId": "5679fb75-15a7-44b5-a884-2dd6c88dea7c"
      },
      "outputs": [
        {
          "output_type": "stream",
          "name": "stdout",
          "text": [
            "[10 99 30 40 50]\n"
          ]
        }
      ],
      "source": [
        "# Modifying an element\n",
        "foo[1] = 99\n",
        "print(foo)"
      ]
    },
    {
      "cell_type": "code",
      "execution_count": null,
      "metadata": {
        "colab": {
          "base_uri": "https://localhost:8080/"
        },
        "id": "G3ib-P7ycPjp",
        "outputId": "d7a95132-b19c-40bf-8073-30ffc8b74bc4"
      },
      "outputs": [
        {
          "output_type": "stream",
          "name": "stdout",
          "text": [
            "[40 10 50]\n"
          ]
        }
      ],
      "source": [
        "# Accessing Multiple Elements\n",
        "print(foo[[3, 0, 4]])"
      ]
    },
    {
      "cell_type": "code",
      "execution_count": null,
      "metadata": {
        "colab": {
          "base_uri": "https://localhost:8080/"
        },
        "id": "qKEka6QkcPmv",
        "outputId": "8517b67e-899d-4a8d-b096-48836db171ed"
      },
      "outputs": [
        {
          "output_type": "stream",
          "name": "stdout",
          "text": [
            "[10 99 10 99 99 40]\n"
          ]
        }
      ],
      "source": [
        "# Accessing Multiple Elements with same indices\n",
        "print(foo[[0, 1, 0,1,1,3]])"
      ]
    },
    {
      "cell_type": "code",
      "execution_count": null,
      "metadata": {
        "colab": {
          "base_uri": "https://localhost:8080/"
        },
        "id": "uVG8uIJ_cyeD",
        "outputId": "ec07786b-9e6e-4f24-c507-989d5503783d"
      },
      "outputs": [
        {
          "output_type": "stream",
          "name": "stdout",
          "text": [
            "[10 10 10]\n"
          ]
        }
      ],
      "source": [
        "# Using elements of another numpy array as indices\n",
        "print(foo[np.zeros(shape=3, dtype='int64')])"
      ]
    },
    {
      "cell_type": "code",
      "execution_count": null,
      "metadata": {
        "id": "fB_ed-YOdmwT"
      },
      "outputs": [],
      "source": [
        "# Modifying multiple elements at once\n",
        "foo[[0, 1, 4]] = [100, 200, 400]"
      ]
    },
    {
      "cell_type": "code",
      "execution_count": null,
      "metadata": {
        "id": "ok5AN5ztduQ4"
      },
      "outputs": [],
      "source": [
        "# Assign everything to a scalar\n",
        "foo[[0, 1, 4]] = 99"
      ]
    },
    {
      "cell_type": "markdown",
      "metadata": {
        "id": "n6ErPQMSd0Vd"
      },
      "source": [
        "Array Slicing\n",
        "\n",
        "foo[ start index : end index : step size ]"
      ]
    },
    {
      "cell_type": "code",
      "execution_count": null,
      "metadata": {
        "id": "eNTVKgjId3_-"
      },
      "outputs": [],
      "source": [
        "# Get every element from index 2 inclusive to the end of the array\n",
        "print(foo[2:])"
      ]
    },
    {
      "cell_type": "code",
      "execution_count": null,
      "metadata": {
        "id": "Ari_dvSJd4id"
      },
      "outputs": [],
      "source": [
        "# Get every other element from the beginning of the array to the end\n",
        "print(foo[::2])"
      ]
    },
    {
      "cell_type": "markdown",
      "metadata": {
        "id": "S8mUqXAYfl8M"
      },
      "source": [
        "# Transposing and Reshaping an Array"
      ]
    },
    {
      "cell_type": "code",
      "execution_count": null,
      "metadata": {
        "colab": {
          "base_uri": "https://localhost:8080/"
        },
        "id": "tZsLiOKNfrk1",
        "outputId": "2fe1fb31-e438-4a69-da5a-3d3c3c896bd8"
      },
      "outputs": [
        {
          "output_type": "execute_result",
          "data": {
            "text/plain": [
              "array([0, 1, 2, 3, 4, 5])"
            ]
          },
          "metadata": {},
          "execution_count": 45
        }
      ],
      "source": [
        "arr = np.arange(6)\n",
        "arr"
      ]
    },
    {
      "cell_type": "code",
      "execution_count": null,
      "metadata": {
        "colab": {
          "base_uri": "https://localhost:8080/"
        },
        "id": "P2SFrfkffs-P",
        "outputId": "0b94bff9-4ef8-40b6-b1b0-b83d46680a06"
      },
      "outputs": [
        {
          "output_type": "execute_result",
          "data": {
            "text/plain": [
              "array([[0, 1, 2],\n",
              "       [3, 4, 5]])"
            ]
          },
          "metadata": {},
          "execution_count": 46
        }
      ],
      "source": [
        "x = arr.reshape((2, 3))\n",
        "x"
      ]
    },
    {
      "cell_type": "code",
      "execution_count": null,
      "metadata": {
        "colab": {
          "base_uri": "https://localhost:8080/"
        },
        "id": "NYlmsobvf0Mn",
        "outputId": "375dcf8e-5cee-46ce-e860-b76a9b0331d5"
      },
      "outputs": [
        {
          "output_type": "execute_result",
          "data": {
            "text/plain": [
              "array([[0, 3],\n",
              "       [1, 4],\n",
              "       [2, 5]])"
            ]
          },
          "metadata": {},
          "execution_count": 48
        }
      ],
      "source": [
        "y = x.transpose()\n",
        "y"
      ]
    },
    {
      "cell_type": "code",
      "execution_count": null,
      "metadata": {
        "id": "7LRRtSE3f0vW",
        "colab": {
          "base_uri": "https://localhost:8080/"
        },
        "outputId": "908b84d9-f33e-4741-b41c-2d9b0acce0e8"
      },
      "outputs": [
        {
          "output_type": "execute_result",
          "data": {
            "text/plain": [
              "array([[0, 1, 2],\n",
              "       [3, 4, 5]])"
            ]
          },
          "metadata": {},
          "execution_count": 49
        }
      ],
      "source": [
        "y.T"
      ]
    },
    {
      "cell_type": "markdown",
      "metadata": {
        "id": "mDFp7hcGgHy6"
      },
      "source": [
        "## Stacking Arrays"
      ]
    },
    {
      "cell_type": "code",
      "execution_count": null,
      "metadata": {
        "id": "srEvXttwgJ9R"
      },
      "outputs": [],
      "source": [
        "a1 = np.array([[1, 1],\n",
        "               [2, 2]])\n",
        "\n",
        "a2 = np.array([[3, 3],\n",
        "               [4, 4]])"
      ]
    },
    {
      "cell_type": "code",
      "execution_count": null,
      "metadata": {
        "id": "rD12xRY5gK3P",
        "colab": {
          "base_uri": "https://localhost:8080/"
        },
        "outputId": "1ab3025f-64f4-4ded-ab65-d9d8bb91ec2f"
      },
      "outputs": [
        {
          "output_type": "execute_result",
          "data": {
            "text/plain": [
              "array([[1, 1],\n",
              "       [2, 2],\n",
              "       [3, 3],\n",
              "       [4, 4]])"
            ]
          },
          "metadata": {},
          "execution_count": 51
        }
      ],
      "source": [
        "np.vstack((a1, a2))"
      ]
    },
    {
      "cell_type": "code",
      "execution_count": null,
      "metadata": {
        "id": "7YGzmexCgK59",
        "colab": {
          "base_uri": "https://localhost:8080/"
        },
        "outputId": "1d090e5e-2a4a-4a64-affd-fa31cdaac02b"
      },
      "outputs": [
        {
          "output_type": "execute_result",
          "data": {
            "text/plain": [
              "array([[1, 1, 3, 3],\n",
              "       [2, 2, 4, 4]])"
            ]
          },
          "metadata": {},
          "execution_count": 52
        }
      ],
      "source": [
        "np.hstack((a1, a2))"
      ]
    },
    {
      "cell_type": "markdown",
      "metadata": {
        "id": "FxkzNGs1gYm-"
      },
      "source": [
        "# Array Operations"
      ]
    },
    {
      "cell_type": "code",
      "execution_count": null,
      "metadata": {
        "id": "vZQytZV5guay"
      },
      "outputs": [],
      "source": [
        "data = np.array([76,82,4,90,213])"
      ]
    },
    {
      "cell_type": "code",
      "execution_count": null,
      "metadata": {
        "id": "AErxKGnHga7G",
        "colab": {
          "base_uri": "https://localhost:8080/"
        },
        "outputId": "6427418f-27d1-4603-c5bc-ca86b107ea8e"
      },
      "outputs": [
        {
          "output_type": "execute_result",
          "data": {
            "text/plain": [
              "4"
            ]
          },
          "metadata": {},
          "execution_count": 54
        }
      ],
      "source": [
        "data.min()"
      ]
    },
    {
      "cell_type": "code",
      "execution_count": null,
      "metadata": {
        "id": "PaXM_YQCgeWx",
        "colab": {
          "base_uri": "https://localhost:8080/"
        },
        "outputId": "8bab2146-376e-4fb1-fe36-911c18d8fad8"
      },
      "outputs": [
        {
          "output_type": "execute_result",
          "data": {
            "text/plain": [
              "213"
            ]
          },
          "metadata": {},
          "execution_count": 55
        }
      ],
      "source": [
        "data.max()"
      ]
    },
    {
      "cell_type": "code",
      "execution_count": null,
      "metadata": {
        "id": "GX7aH2vZgeZO",
        "colab": {
          "base_uri": "https://localhost:8080/"
        },
        "outputId": "7ffa8e40-5291-42b8-8ffe-52d56e5699a3"
      },
      "outputs": [
        {
          "output_type": "execute_result",
          "data": {
            "text/plain": [
              "2"
            ]
          },
          "metadata": {},
          "execution_count": 57
        }
      ],
      "source": [
        "data.argmin()"
      ]
    },
    {
      "cell_type": "code",
      "execution_count": null,
      "metadata": {
        "id": "eMafZXNigeb5",
        "colab": {
          "base_uri": "https://localhost:8080/"
        },
        "outputId": "9cf651ee-c3ce-4528-ca6e-276e05402f84"
      },
      "outputs": [
        {
          "output_type": "execute_result",
          "data": {
            "text/plain": [
              "4"
            ]
          },
          "metadata": {},
          "execution_count": 58
        }
      ],
      "source": [
        "data.argmax()"
      ]
    },
    {
      "cell_type": "code",
      "execution_count": null,
      "metadata": {
        "id": "iJ5Jh-KKgh-X",
        "colab": {
          "base_uri": "https://localhost:8080/"
        },
        "outputId": "c0728649-7bda-43c4-8fe9-9ac1d9fb27b4"
      },
      "outputs": [
        {
          "output_type": "execute_result",
          "data": {
            "text/plain": [
              "465"
            ]
          },
          "metadata": {},
          "execution_count": 56
        }
      ],
      "source": [
        "data.sum()"
      ]
    },
    {
      "cell_type": "markdown",
      "metadata": {
        "id": "vspxE6wKc-BG"
      },
      "source": [
        "# Basic Math Operations on Arrays"
      ]
    },
    {
      "cell_type": "code",
      "execution_count": null,
      "metadata": {
        "id": "k7W0RarucymS"
      },
      "outputs": [],
      "source": [
        "foo = np.array([[4,3], [1,0]])\n",
        "bar = np.array([[1,2], [3,4]])"
      ]
    },
    {
      "cell_type": "code",
      "execution_count": null,
      "metadata": {
        "id": "cWZfyiYQcywU",
        "colab": {
          "base_uri": "https://localhost:8080/"
        },
        "outputId": "5b8266c9-829c-4d4f-cb46-835a6fc2ecc0"
      },
      "outputs": [
        {
          "output_type": "stream",
          "name": "stdout",
          "text": [
            "[[4 3]\n",
            " [1 0]]\n",
            "[[1 2]\n",
            " [3 4]]\n"
          ]
        }
      ],
      "source": [
        "print(foo)\n",
        "print(bar)"
      ]
    },
    {
      "cell_type": "code",
      "execution_count": null,
      "metadata": {
        "id": "3uD3weJpdBOf",
        "colab": {
          "base_uri": "https://localhost:8080/"
        },
        "outputId": "c093c8e8-3a39-4b6e-fe78-f1dd9196d8ec"
      },
      "outputs": [
        {
          "output_type": "execute_result",
          "data": {
            "text/plain": [
              "array([[5, 5],\n",
              "       [4, 4]])"
            ]
          },
          "metadata": {},
          "execution_count": 61
        }
      ],
      "source": [
        "# Addition\n",
        "foo + bar"
      ]
    },
    {
      "cell_type": "markdown",
      "metadata": {
        "id": "FsYDAMifdGPK"
      },
      "source": [
        "The values of foo and bar get added element-wise. This pattern of element-wise addition holds true for every math operation between identically sized arrays."
      ]
    },
    {
      "cell_type": "code",
      "execution_count": null,
      "metadata": {
        "id": "ZTFK6-yHdBTF",
        "colab": {
          "base_uri": "https://localhost:8080/"
        },
        "outputId": "3a762d16-db6a-4fba-8af3-b834bae6256b"
      },
      "outputs": [
        {
          "output_type": "execute_result",
          "data": {
            "text/plain": [
              "array([[ 3,  1],\n",
              "       [-2, -4]])"
            ]
          },
          "metadata": {},
          "execution_count": 62
        }
      ],
      "source": [
        "# Subtraction\n",
        "foo - bar"
      ]
    },
    {
      "cell_type": "code",
      "execution_count": null,
      "metadata": {
        "id": "_joG6RwsdBVi",
        "colab": {
          "base_uri": "https://localhost:8080/"
        },
        "outputId": "c16c3105-4ac5-4462-f21c-e0128857fbac"
      },
      "outputs": [
        {
          "output_type": "execute_result",
          "data": {
            "text/plain": [
              "array([[4, 6],\n",
              "       [3, 0]])"
            ]
          },
          "metadata": {},
          "execution_count": 63
        }
      ],
      "source": [
        "# Multiplication\n",
        "foo * bar"
      ]
    },
    {
      "cell_type": "code",
      "execution_count": null,
      "metadata": {
        "id": "x-d9ylLXdBYj",
        "colab": {
          "base_uri": "https://localhost:8080/"
        },
        "outputId": "8f030883-5ba1-44f7-d569-ec07cde9f388"
      },
      "outputs": [
        {
          "output_type": "execute_result",
          "data": {
            "text/plain": [
              "array([[4.        , 1.5       ],\n",
              "       [0.33333333, 0.        ]])"
            ]
          },
          "metadata": {},
          "execution_count": 64
        }
      ],
      "source": [
        "# Division\n",
        "foo / bar"
      ]
    },
    {
      "cell_type": "code",
      "execution_count": null,
      "metadata": {
        "id": "36L-7wRldS7x",
        "colab": {
          "base_uri": "https://localhost:8080/"
        },
        "outputId": "40ae5571-1cc8-42a2-814e-44f23e4727c7"
      },
      "outputs": [
        {
          "output_type": "execute_result",
          "data": {
            "text/plain": [
              "array([[13, 20],\n",
              "       [ 1,  2]])"
            ]
          },
          "metadata": {},
          "execution_count": 65
        }
      ],
      "source": [
        "# Matrix Multiplication\n",
        "foo @ bar"
      ]
    },
    {
      "cell_type": "markdown",
      "metadata": {
        "id": "qwMTX6DSdWhe"
      },
      "source": [
        "## Broadcasting\n",
        "\n",
        "\n",
        "\n",
        "The term broadcasting describes how NumPy treats arrays with different shapes during arithmetic operations. Subject to certain constraints, the smaller array is “broadcast” across the larger array so that they have compatible shapes. Broadcasting provides a means of vectorizing array operations so that looping occurs in C instead of Python. It does this without making needless copies of data and usually leads to efficient algorithm implementations. There are, however, cases where broadcasting is a bad idea because it leads to inefficient use of memory that slows computation.\n",
        "\n",
        "![x](https://miro.medium.com/v2/resize:fit:1400/1*lY8Ve6Uz_bqVI5NPh5RPZA.png)\n",
        "\n"
      ]
    },
    {
      "cell_type": "code",
      "execution_count": null,
      "metadata": {
        "id": "ua8bGsgBdeD5"
      },
      "outputs": [],
      "source": [
        "foo + 5"
      ]
    },
    {
      "cell_type": "code",
      "execution_count": null,
      "metadata": {
        "id": "yU5mNNd6WVYI"
      },
      "outputs": [],
      "source": [
        "a1 = np.arange(8).reshape(2,4)\n",
        "a2  = np.arange(8,16).reshape(2,4)"
      ]
    },
    {
      "cell_type": "code",
      "execution_count": null,
      "metadata": {
        "id": "9ZDHKO7EWhh1"
      },
      "outputs": [],
      "source": [
        "print(a1)\n",
        "print(a2)"
      ]
    },
    {
      "cell_type": "code",
      "execution_count": null,
      "metadata": {
        "id": "Q40-0pqkWkiI"
      },
      "outputs": [],
      "source": [
        "a1 + a2"
      ]
    },
    {
      "cell_type": "code",
      "execution_count": null,
      "metadata": {
        "id": "LDdYZWTNWnY6"
      },
      "outputs": [],
      "source": [
        "a3= np.arange(3).reshape(1,3)\n",
        "a4 = np.arange(9).reshape(3,3)"
      ]
    },
    {
      "cell_type": "code",
      "execution_count": null,
      "metadata": {
        "id": "Wz38YBtYWnb-"
      },
      "outputs": [],
      "source": [
        "print(a3)\n",
        "print(a4)"
      ]
    },
    {
      "cell_type": "code",
      "execution_count": null,
      "metadata": {
        "id": "DFwpk14NWnfO"
      },
      "outputs": [],
      "source": [
        "a3  + a4"
      ]
    },
    {
      "cell_type": "markdown",
      "metadata": {
        "id": "9HQS-_gCXIUs"
      },
      "source": [
        "# Getting Unique Values"
      ]
    },
    {
      "cell_type": "code",
      "execution_count": null,
      "metadata": {
        "id": "p3NzCebEWniC"
      },
      "outputs": [],
      "source": [
        "a = np.array([11, 11, 12, 13, 14, 15, 16, 17, 12, 13, 11, 14, 18, 19, 20])"
      ]
    },
    {
      "cell_type": "code",
      "execution_count": null,
      "metadata": {
        "id": "nmkRBiuBWnkv",
        "colab": {
          "base_uri": "https://localhost:8080/"
        },
        "outputId": "2432225d-51d5-4215-dfdb-699be5948a50"
      },
      "outputs": [
        {
          "output_type": "execute_result",
          "data": {
            "text/plain": [
              "array([11, 12, 13, 14, 15, 16, 17, 18, 19, 20])"
            ]
          },
          "metadata": {},
          "execution_count": 67
        }
      ],
      "source": [
        "np.unique(a)"
      ]
    },
    {
      "cell_type": "code",
      "execution_count": null,
      "metadata": {
        "id": "Vl5wDQPaWnnc",
        "colab": {
          "base_uri": "https://localhost:8080/"
        },
        "outputId": "091aef35-88c3-4955-b233-60bfd58a3397"
      },
      "outputs": [
        {
          "output_type": "execute_result",
          "data": {
            "text/plain": [
              "(array([11, 12, 13, 14, 15, 16, 17, 18, 19, 20]),\n",
              " array([ 0,  2,  3,  4,  5,  6,  7, 12, 13, 14]))"
            ]
          },
          "metadata": {},
          "execution_count": 68
        }
      ],
      "source": [
        "np.unique(a, return_index=True)"
      ]
    },
    {
      "cell_type": "code",
      "execution_count": null,
      "metadata": {
        "id": "YR5EJMBBea-D",
        "colab": {
          "base_uri": "https://localhost:8080/"
        },
        "outputId": "6a7a76db-7ef2-4dc8-e23a-f5f45de06357"
      },
      "outputs": [
        {
          "output_type": "execute_result",
          "data": {
            "text/plain": [
              "(array([11, 12, 13, 14, 15, 16, 17, 18, 19, 20]),\n",
              " array([3, 2, 2, 2, 1, 1, 1, 1, 1, 1]))"
            ]
          },
          "metadata": {},
          "execution_count": 69
        }
      ],
      "source": [
        "np.unique(a, return_counts=True) # collections.Counter()"
      ]
    },
    {
      "cell_type": "code",
      "execution_count": null,
      "metadata": {
        "id": "gIiNs6C5ebMZ",
        "colab": {
          "base_uri": "https://localhost:8080/"
        },
        "outputId": "ea835ee0-9208-4077-d352-01546f37aa3f"
      },
      "outputs": [
        {
          "output_type": "execute_result",
          "data": {
            "text/plain": [
              "array([ 1,  2,  3,  4,  5,  6,  7,  8,  9, 10, 11, 12])"
            ]
          },
          "metadata": {},
          "execution_count": 70
        }
      ],
      "source": [
        "# 2D Array\n",
        "a_2d = np.array([[1, 1, 3, 4], [5, 6, 7, 8], [9, 10, 11, 12], [1, 2, 3, 4]])\n",
        "np.unique(a_2d)"
      ]
    },
    {
      "cell_type": "code",
      "execution_count": null,
      "metadata": {
        "id": "aPX2S2npenC7",
        "colab": {
          "base_uri": "https://localhost:8080/"
        },
        "outputId": "0443a633-735c-4bdf-ea0a-eb212568425a"
      },
      "outputs": [
        {
          "output_type": "execute_result",
          "data": {
            "text/plain": [
              "array([[ 1,  1,  3,  4],\n",
              "       [ 1,  2,  3,  4],\n",
              "       [ 5,  6,  7,  8],\n",
              "       [ 9, 10, 11, 12]])"
            ]
          },
          "metadata": {},
          "execution_count": 71
        }
      ],
      "source": [
        "# For rows\n",
        "np.unique(a_2d, axis=0)"
      ]
    },
    {
      "cell_type": "code",
      "execution_count": null,
      "metadata": {
        "id": "MMZYyaT5eox7",
        "colab": {
          "base_uri": "https://localhost:8080/"
        },
        "outputId": "ad959007-a683-4ca4-fa60-0f47c859ad08"
      },
      "outputs": [
        {
          "output_type": "execute_result",
          "data": {
            "text/plain": [
              "array([[ 1,  1,  3,  4],\n",
              "       [ 5,  6,  7,  8],\n",
              "       [ 9, 10, 11, 12],\n",
              "       [ 1,  2,  3,  4]])"
            ]
          },
          "metadata": {},
          "execution_count": 72
        }
      ],
      "source": [
        "# For columns\n",
        "np.unique(a_2d, axis=1)"
      ]
    },
    {
      "cell_type": "markdown",
      "metadata": {
        "id": "XQTiHS5DeyWl"
      },
      "source": [
        "# Reverse An Array"
      ]
    },
    {
      "cell_type": "code",
      "execution_count": null,
      "metadata": {
        "id": "nhbrRgnoez2C"
      },
      "outputs": [],
      "source": [
        "arr = np.array([1, 2, 3, 4, 5, 6, 7, 8])"
      ]
    },
    {
      "cell_type": "code",
      "execution_count": null,
      "metadata": {
        "id": "QSFlBzYge0R7",
        "colab": {
          "base_uri": "https://localhost:8080/"
        },
        "outputId": "e17b7258-b453-43c6-a4c0-1664be98fa45"
      },
      "outputs": [
        {
          "output_type": "execute_result",
          "data": {
            "text/plain": [
              "array([8, 7, 6, 5, 4, 3, 2, 1])"
            ]
          },
          "metadata": {},
          "execution_count": 74
        }
      ],
      "source": [
        "np.flip(arr)"
      ]
    },
    {
      "cell_type": "code",
      "execution_count": null,
      "metadata": {
        "id": "A3mfLJzEe3Pr",
        "colab": {
          "base_uri": "https://localhost:8080/"
        },
        "outputId": "9a72f864-cc90-4e2d-dc75-5c857806a284"
      },
      "outputs": [
        {
          "output_type": "execute_result",
          "data": {
            "text/plain": [
              "array([[ 1,  2,  3,  4],\n",
              "       [ 5,  6,  7,  8],\n",
              "       [ 9, 10, 11, 12]])"
            ]
          },
          "metadata": {},
          "execution_count": 75
        }
      ],
      "source": [
        "arr_2d = np.array([[1, 2, 3, 4], [5, 6, 7, 8], [9, 10, 11, 12]])\n",
        "arr_2d"
      ]
    },
    {
      "cell_type": "code",
      "execution_count": null,
      "metadata": {
        "id": "-P85mc3ee6eh",
        "colab": {
          "base_uri": "https://localhost:8080/"
        },
        "outputId": "c435f3ce-5e8c-4c84-88a1-cf40cc82c4ea"
      },
      "outputs": [
        {
          "output_type": "execute_result",
          "data": {
            "text/plain": [
              "array([[12, 11, 10,  9],\n",
              "       [ 8,  7,  6,  5],\n",
              "       [ 4,  3,  2,  1]])"
            ]
          },
          "metadata": {},
          "execution_count": 76
        }
      ],
      "source": [
        "np.flip(arr_2d)"
      ]
    },
    {
      "cell_type": "code",
      "execution_count": null,
      "metadata": {
        "id": "GCF5VIp3e_KA",
        "colab": {
          "base_uri": "https://localhost:8080/"
        },
        "outputId": "04d48e10-10dd-4eba-892e-a81a529d283b"
      },
      "outputs": [
        {
          "output_type": "execute_result",
          "data": {
            "text/plain": [
              "array([[ 9, 10, 11, 12],\n",
              "       [ 5,  6,  7,  8],\n",
              "       [ 1,  2,  3,  4]])"
            ]
          },
          "metadata": {},
          "execution_count": 77
        }
      ],
      "source": [
        "# Reverse only rows\n",
        "np.flip(arr_2d, axis=0)"
      ]
    },
    {
      "cell_type": "code",
      "execution_count": null,
      "metadata": {
        "id": "nhOJ-iiDe_PR",
        "colab": {
          "base_uri": "https://localhost:8080/"
        },
        "outputId": "47c6830f-3c8b-4c81-f237-4656e43813c9"
      },
      "outputs": [
        {
          "output_type": "execute_result",
          "data": {
            "text/plain": [
              "array([[ 4,  3,  2,  1],\n",
              "       [ 8,  7,  6,  5],\n",
              "       [12, 11, 10,  9]])"
            ]
          },
          "metadata": {},
          "execution_count": 78
        }
      ],
      "source": [
        "# Reverse only columns\n",
        "np.flip(arr_2d, axis=1)"
      ]
    },
    {
      "cell_type": "markdown",
      "metadata": {
        "id": "ZFdUVFBQfMaC"
      },
      "source": [
        "# Flattening an Array\n",
        "\n",
        "When you use flatten, changes to your new array won’t change the parent array.\n",
        "\n",
        "But when you use ravel, the changes you make to the new array will affect the parent array."
      ]
    },
    {
      "cell_type": "code",
      "execution_count": null,
      "metadata": {
        "id": "xL5hFY3zfOP2",
        "colab": {
          "base_uri": "https://localhost:8080/"
        },
        "outputId": "c08287b4-c6e5-478d-e030-9c581d73ee3c"
      },
      "outputs": [
        {
          "output_type": "execute_result",
          "data": {
            "text/plain": [
              "array([[ 1,  2,  3,  4],\n",
              "       [ 5,  6,  7,  8],\n",
              "       [ 9, 10, 11, 12]])"
            ]
          },
          "metadata": {},
          "execution_count": 79
        }
      ],
      "source": [
        "x = np.array([[1 , 2, 3, 4], [5, 6, 7, 8], [9, 10, 11, 12]])\n",
        "x"
      ]
    },
    {
      "cell_type": "code",
      "execution_count": null,
      "metadata": {
        "id": "A-kzHMfKfOpQ",
        "colab": {
          "base_uri": "https://localhost:8080/"
        },
        "outputId": "600feadc-2cec-4523-cf44-6de60fde8e66"
      },
      "outputs": [
        {
          "output_type": "execute_result",
          "data": {
            "text/plain": [
              "array([ 1,  2,  3,  4,  5,  6,  7,  8,  9, 10, 11, 12])"
            ]
          },
          "metadata": {},
          "execution_count": 80
        }
      ],
      "source": [
        "x.flatten()"
      ]
    },
    {
      "cell_type": "code",
      "execution_count": null,
      "metadata": {
        "id": "qxuamPEkfRZE",
        "colab": {
          "base_uri": "https://localhost:8080/"
        },
        "outputId": "4457d0f0-43a6-43ad-a407-4e6bd533541b"
      },
      "outputs": [
        {
          "output_type": "stream",
          "name": "stdout",
          "text": [
            "[[ 1  2  3  4]\n",
            " [ 5  6  7  8]\n",
            " [ 9 10 11 12]]\n",
            "[99  2  3  4  5  6  7  8  9 10 11 12]\n"
          ]
        }
      ],
      "source": [
        "a1 = x.flatten()\n",
        "a1[0] = 99\n",
        "print(x)  # Original array\n",
        "print(a1)  # New array"
      ]
    },
    {
      "cell_type": "code",
      "execution_count": null,
      "metadata": {
        "id": "WRdOji7MfRb_",
        "colab": {
          "base_uri": "https://localhost:8080/"
        },
        "outputId": "dba173ab-61d1-457e-bd6a-90727431459b"
      },
      "outputs": [
        {
          "output_type": "stream",
          "name": "stdout",
          "text": [
            "[[98  2  3  4]\n",
            " [ 5  6  7  8]\n",
            " [ 9 10 11 12]]\n",
            "[98  2  3  4  5  6  7  8  9 10 11 12]\n"
          ]
        }
      ],
      "source": [
        "a2 = x.ravel()\n",
        "a2[0] = 98\n",
        "print(x)  # Original array\n",
        "print(a2)  # New array"
      ]
    },
    {
      "cell_type": "markdown",
      "metadata": {
        "id": "L3obZMdMg7Ko"
      },
      "source": [
        "# Saving Arrays to Disk"
      ]
    },
    {
      "cell_type": "code",
      "execution_count": null,
      "metadata": {
        "id": "iXsd4YS_g9yf"
      },
      "outputs": [],
      "source": [
        "a = np.array([1, 2, 3, 4, 5, 6])"
      ]
    },
    {
      "cell_type": "code",
      "execution_count": null,
      "metadata": {
        "id": "sYiA__2Eg-ek"
      },
      "outputs": [],
      "source": [
        "np.save('filename', a)"
      ]
    },
    {
      "cell_type": "code",
      "execution_count": null,
      "metadata": {
        "id": "nWxOBqovhCei",
        "colab": {
          "base_uri": "https://localhost:8080/"
        },
        "outputId": "b13a81f0-8607-403c-a55e-31de645e42f2"
      },
      "outputs": [
        {
          "output_type": "stream",
          "name": "stdout",
          "text": [
            "[1 2 3 4 5 6]\n"
          ]
        }
      ],
      "source": [
        "b = np.load('filename.npy')\n",
        "print(b)"
      ]
    },
    {
      "cell_type": "code",
      "source": [],
      "metadata": {
        "id": "TclmHbFR7Qr4"
      },
      "execution_count": null,
      "outputs": []
    }
  ],
  "metadata": {
    "colab": {
      "provenance": []
    },
    "kernelspec": {
      "display_name": "Python 3",
      "name": "python3"
    },
    "language_info": {
      "name": "python"
    }
  },
  "nbformat": 4,
  "nbformat_minor": 0
}