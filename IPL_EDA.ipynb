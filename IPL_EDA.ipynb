{
  "cells": [
    {
      "cell_type": "markdown",
      "metadata": {
        "id": "view-in-github",
        "colab_type": "text"
      },
      "source": [
        "<a href=\"https://colab.research.google.com/github/smaranjitghose/ParulUniversityAI/blob/master/IPL_EDA.ipynb\" target=\"_parent\"><img src=\"https://colab.research.google.com/assets/colab-badge.svg\" alt=\"Open In Colab\"/></a>"
      ]
    },
    {
      "cell_type": "markdown",
      "metadata": {
        "papermill": {
          "duration": 0.053322,
          "end_time": "2020-11-16T05:38:07.001969",
          "exception": false,
          "start_time": "2020-11-16T05:38:06.948647",
          "status": "completed"
        },
        "tags": [],
        "id": "8kOjMyUuFb2t"
      },
      "source": [
        "# Perform Exploratory Data Analysis on 'Indian Premiere League'"
      ]
    },
    {
      "cell_type": "markdown",
      "metadata": {
        "papermill": {
          "duration": 0.052972,
          "end_time": "2020-11-16T05:38:07.104521",
          "exception": false,
          "start_time": "2020-11-16T05:38:07.051549",
          "status": "completed"
        },
        "tags": [],
        "id": "Uhs4LFP6Fb2x"
      },
      "source": [
        "### <font color='darkblue'>Objective:: </font>\n",
        "● Perform ‘Exploratory Data Analysis’ on dataset ‘Indian Premier League’\n",
        "\n",
        "● As a sports analysts, find out the most successful teams, players and factors contributing win or loss of a team.\n",
        "\n",
        "● Suggest teams or players a company should endorse for its products.\n",
        "\n",
        "● Dataset:https://bit.ly/34SRn3b"
      ]
    },
    {
      "cell_type": "code",
      "execution_count": null,
      "metadata": {
        "execution": {
          "iopub.execute_input": "2020-11-16T05:38:07.216855Z",
          "iopub.status.busy": "2020-11-16T05:38:07.215933Z",
          "iopub.status.idle": "2020-11-16T05:38:08.154849Z",
          "shell.execute_reply": "2020-11-16T05:38:08.153961Z"
        },
        "papermill": {
          "duration": 0.998227,
          "end_time": "2020-11-16T05:38:08.154982",
          "exception": false,
          "start_time": "2020-11-16T05:38:07.156755",
          "status": "completed"
        },
        "tags": [],
        "id": "bmi1BinUFb2y"
      },
      "outputs": [],
      "source": [
        "import numpy as np\n",
        "import pandas as pd\n",
        "import seaborn as sns\n",
        "import matplotlib.pyplot as plt"
      ]
    },
    {
      "cell_type": "code",
      "execution_count": null,
      "metadata": {
        "execution": {
          "iopub.execute_input": "2020-11-16T05:38:08.268577Z",
          "iopub.status.busy": "2020-11-16T05:38:08.267803Z",
          "iopub.status.idle": "2020-11-16T05:38:08.688270Z",
          "shell.execute_reply": "2020-11-16T05:38:08.686996Z"
        },
        "papermill": {
          "duration": 0.480674,
          "end_time": "2020-11-16T05:38:08.688439",
          "exception": false,
          "start_time": "2020-11-16T05:38:08.207765",
          "status": "completed"
        },
        "tags": [],
        "id": "Ots_pNHWFb20"
      },
      "outputs": [],
      "source": [
        "matches_df = pd.read_csv(\"/content/matches.csv\")\n",
        "score_df = pd.read_csv(\"/content/deliveries.csv\")"
      ]
    },
    {
      "cell_type": "code",
      "execution_count": null,
      "metadata": {
        "execution": {
          "iopub.execute_input": "2020-11-16T05:38:08.818385Z",
          "iopub.status.busy": "2020-11-16T05:38:08.817136Z",
          "iopub.status.idle": "2020-11-16T05:38:08.834107Z",
          "shell.execute_reply": "2020-11-16T05:38:08.834753Z"
        },
        "papermill": {
          "duration": 0.094516,
          "end_time": "2020-11-16T05:38:08.834932",
          "exception": false,
          "start_time": "2020-11-16T05:38:08.740416",
          "status": "completed"
        },
        "tags": [],
        "id": "DfL9tOgZFb21",
        "outputId": "458cca6a-9b8d-464a-eaf1-2214832e3949"
      },
      "outputs": [
        {
          "data": {
            "text/html": [
              "<div>\n",
              "<style scoped>\n",
              "    .dataframe tbody tr th:only-of-type {\n",
              "        vertical-align: middle;\n",
              "    }\n",
              "\n",
              "    .dataframe tbody tr th {\n",
              "        vertical-align: top;\n",
              "    }\n",
              "\n",
              "    .dataframe thead th {\n",
              "        text-align: right;\n",
              "    }\n",
              "</style>\n",
              "<table border=\"1\" class=\"dataframe\">\n",
              "  <thead>\n",
              "    <tr style=\"text-align: right;\">\n",
              "      <th></th>\n",
              "      <th>id</th>\n",
              "      <th>season</th>\n",
              "      <th>city</th>\n",
              "      <th>date</th>\n",
              "      <th>team1</th>\n",
              "      <th>team2</th>\n",
              "      <th>toss_winner</th>\n",
              "      <th>toss_decision</th>\n",
              "      <th>result</th>\n",
              "      <th>dl_applied</th>\n",
              "      <th>winner</th>\n",
              "      <th>win_by_runs</th>\n",
              "      <th>win_by_wickets</th>\n",
              "      <th>player_of_match</th>\n",
              "      <th>venue</th>\n",
              "      <th>umpire1</th>\n",
              "      <th>umpire2</th>\n",
              "      <th>umpire3</th>\n",
              "    </tr>\n",
              "  </thead>\n",
              "  <tbody>\n",
              "    <tr>\n",
              "      <th>0</th>\n",
              "      <td>1</td>\n",
              "      <td>2017</td>\n",
              "      <td>Hyderabad</td>\n",
              "      <td>2017-04-05</td>\n",
              "      <td>Sunrisers Hyderabad</td>\n",
              "      <td>Royal Challengers Bangalore</td>\n",
              "      <td>Royal Challengers Bangalore</td>\n",
              "      <td>field</td>\n",
              "      <td>normal</td>\n",
              "      <td>0</td>\n",
              "      <td>Sunrisers Hyderabad</td>\n",
              "      <td>35</td>\n",
              "      <td>0</td>\n",
              "      <td>Yuvraj Singh</td>\n",
              "      <td>Rajiv Gandhi International Stadium, Uppal</td>\n",
              "      <td>AY Dandekar</td>\n",
              "      <td>NJ Llong</td>\n",
              "      <td>NaN</td>\n",
              "    </tr>\n",
              "    <tr>\n",
              "      <th>1</th>\n",
              "      <td>2</td>\n",
              "      <td>2017</td>\n",
              "      <td>Pune</td>\n",
              "      <td>2017-04-06</td>\n",
              "      <td>Mumbai Indians</td>\n",
              "      <td>Rising Pune Supergiant</td>\n",
              "      <td>Rising Pune Supergiant</td>\n",
              "      <td>field</td>\n",
              "      <td>normal</td>\n",
              "      <td>0</td>\n",
              "      <td>Rising Pune Supergiant</td>\n",
              "      <td>0</td>\n",
              "      <td>7</td>\n",
              "      <td>SPD Smith</td>\n",
              "      <td>Maharashtra Cricket Association Stadium</td>\n",
              "      <td>A Nand Kishore</td>\n",
              "      <td>S Ravi</td>\n",
              "      <td>NaN</td>\n",
              "    </tr>\n",
              "    <tr>\n",
              "      <th>2</th>\n",
              "      <td>3</td>\n",
              "      <td>2017</td>\n",
              "      <td>Rajkot</td>\n",
              "      <td>2017-04-07</td>\n",
              "      <td>Gujarat Lions</td>\n",
              "      <td>Kolkata Knight Riders</td>\n",
              "      <td>Kolkata Knight Riders</td>\n",
              "      <td>field</td>\n",
              "      <td>normal</td>\n",
              "      <td>0</td>\n",
              "      <td>Kolkata Knight Riders</td>\n",
              "      <td>0</td>\n",
              "      <td>10</td>\n",
              "      <td>CA Lynn</td>\n",
              "      <td>Saurashtra Cricket Association Stadium</td>\n",
              "      <td>Nitin Menon</td>\n",
              "      <td>CK Nandan</td>\n",
              "      <td>NaN</td>\n",
              "    </tr>\n",
              "    <tr>\n",
              "      <th>3</th>\n",
              "      <td>4</td>\n",
              "      <td>2017</td>\n",
              "      <td>Indore</td>\n",
              "      <td>2017-04-08</td>\n",
              "      <td>Rising Pune Supergiant</td>\n",
              "      <td>Kings XI Punjab</td>\n",
              "      <td>Kings XI Punjab</td>\n",
              "      <td>field</td>\n",
              "      <td>normal</td>\n",
              "      <td>0</td>\n",
              "      <td>Kings XI Punjab</td>\n",
              "      <td>0</td>\n",
              "      <td>6</td>\n",
              "      <td>GJ Maxwell</td>\n",
              "      <td>Holkar Cricket Stadium</td>\n",
              "      <td>AK Chaudhary</td>\n",
              "      <td>C Shamshuddin</td>\n",
              "      <td>NaN</td>\n",
              "    </tr>\n",
              "    <tr>\n",
              "      <th>4</th>\n",
              "      <td>5</td>\n",
              "      <td>2017</td>\n",
              "      <td>Bangalore</td>\n",
              "      <td>2017-04-08</td>\n",
              "      <td>Royal Challengers Bangalore</td>\n",
              "      <td>Delhi Daredevils</td>\n",
              "      <td>Royal Challengers Bangalore</td>\n",
              "      <td>bat</td>\n",
              "      <td>normal</td>\n",
              "      <td>0</td>\n",
              "      <td>Royal Challengers Bangalore</td>\n",
              "      <td>15</td>\n",
              "      <td>0</td>\n",
              "      <td>KM Jadhav</td>\n",
              "      <td>M Chinnaswamy Stadium</td>\n",
              "      <td>NaN</td>\n",
              "      <td>NaN</td>\n",
              "      <td>NaN</td>\n",
              "    </tr>\n",
              "  </tbody>\n",
              "</table>\n",
              "</div>"
            ],
            "text/plain": [
              "   id  season       city        date                        team1  \\\n",
              "0   1    2017  Hyderabad  2017-04-05          Sunrisers Hyderabad   \n",
              "1   2    2017       Pune  2017-04-06               Mumbai Indians   \n",
              "2   3    2017     Rajkot  2017-04-07                Gujarat Lions   \n",
              "3   4    2017     Indore  2017-04-08       Rising Pune Supergiant   \n",
              "4   5    2017  Bangalore  2017-04-08  Royal Challengers Bangalore   \n",
              "\n",
              "                         team2                  toss_winner toss_decision  \\\n",
              "0  Royal Challengers Bangalore  Royal Challengers Bangalore         field   \n",
              "1       Rising Pune Supergiant       Rising Pune Supergiant         field   \n",
              "2        Kolkata Knight Riders        Kolkata Knight Riders         field   \n",
              "3              Kings XI Punjab              Kings XI Punjab         field   \n",
              "4             Delhi Daredevils  Royal Challengers Bangalore           bat   \n",
              "\n",
              "   result  dl_applied                       winner  win_by_runs  \\\n",
              "0  normal           0          Sunrisers Hyderabad           35   \n",
              "1  normal           0       Rising Pune Supergiant            0   \n",
              "2  normal           0        Kolkata Knight Riders            0   \n",
              "3  normal           0              Kings XI Punjab            0   \n",
              "4  normal           0  Royal Challengers Bangalore           15   \n",
              "\n",
              "   win_by_wickets player_of_match                                      venue  \\\n",
              "0               0    Yuvraj Singh  Rajiv Gandhi International Stadium, Uppal   \n",
              "1               7       SPD Smith    Maharashtra Cricket Association Stadium   \n",
              "2              10         CA Lynn     Saurashtra Cricket Association Stadium   \n",
              "3               6      GJ Maxwell                     Holkar Cricket Stadium   \n",
              "4               0       KM Jadhav                      M Chinnaswamy Stadium   \n",
              "\n",
              "          umpire1        umpire2  umpire3  \n",
              "0     AY Dandekar       NJ Llong      NaN  \n",
              "1  A Nand Kishore         S Ravi      NaN  \n",
              "2     Nitin Menon      CK Nandan      NaN  \n",
              "3    AK Chaudhary  C Shamshuddin      NaN  \n",
              "4             NaN            NaN      NaN  "
            ]
          },
          "execution_count": 3,
          "metadata": {},
          "output_type": "execute_result"
        }
      ],
      "source": [
        "matches_df.head()"
      ]
    },
    {
      "cell_type": "code",
      "source": [],
      "metadata": {
        "id": "fQXL1eX4S5Xj"
      },
      "execution_count": null,
      "outputs": []
    },
    {
      "cell_type": "code",
      "execution_count": null,
      "metadata": {
        "execution": {
          "iopub.execute_input": "2020-11-16T05:38:08.986926Z",
          "iopub.status.busy": "2020-11-16T05:38:08.985840Z",
          "iopub.status.idle": "2020-11-16T05:38:08.990539Z",
          "shell.execute_reply": "2020-11-16T05:38:08.991092Z"
        },
        "papermill": {
          "duration": 0.097548,
          "end_time": "2020-11-16T05:38:08.991242",
          "exception": false,
          "start_time": "2020-11-16T05:38:08.893694",
          "status": "completed"
        },
        "tags": [],
        "id": "svu3d2HnFb23",
        "outputId": "1694334f-32fc-4d48-ccf3-e5b0c90c3201"
      },
      "outputs": [
        {
          "data": {
            "text/html": [
              "<div>\n",
              "<style scoped>\n",
              "    .dataframe tbody tr th:only-of-type {\n",
              "        vertical-align: middle;\n",
              "    }\n",
              "\n",
              "    .dataframe tbody tr th {\n",
              "        vertical-align: top;\n",
              "    }\n",
              "\n",
              "    .dataframe thead th {\n",
              "        text-align: right;\n",
              "    }\n",
              "</style>\n",
              "<table border=\"1\" class=\"dataframe\">\n",
              "  <thead>\n",
              "    <tr style=\"text-align: right;\">\n",
              "      <th></th>\n",
              "      <th>match_id</th>\n",
              "      <th>inning</th>\n",
              "      <th>batting_team</th>\n",
              "      <th>bowling_team</th>\n",
              "      <th>over</th>\n",
              "      <th>ball</th>\n",
              "      <th>batsman</th>\n",
              "      <th>non_striker</th>\n",
              "      <th>bowler</th>\n",
              "      <th>is_super_over</th>\n",
              "      <th>...</th>\n",
              "      <th>bye_runs</th>\n",
              "      <th>legbye_runs</th>\n",
              "      <th>noball_runs</th>\n",
              "      <th>penalty_runs</th>\n",
              "      <th>batsman_runs</th>\n",
              "      <th>extra_runs</th>\n",
              "      <th>total_runs</th>\n",
              "      <th>player_dismissed</th>\n",
              "      <th>dismissal_kind</th>\n",
              "      <th>fielder</th>\n",
              "    </tr>\n",
              "  </thead>\n",
              "  <tbody>\n",
              "    <tr>\n",
              "      <th>0</th>\n",
              "      <td>1</td>\n",
              "      <td>1</td>\n",
              "      <td>Sunrisers Hyderabad</td>\n",
              "      <td>Royal Challengers Bangalore</td>\n",
              "      <td>1</td>\n",
              "      <td>1</td>\n",
              "      <td>DA Warner</td>\n",
              "      <td>S Dhawan</td>\n",
              "      <td>TS Mills</td>\n",
              "      <td>0</td>\n",
              "      <td>...</td>\n",
              "      <td>0</td>\n",
              "      <td>0</td>\n",
              "      <td>0</td>\n",
              "      <td>0</td>\n",
              "      <td>0</td>\n",
              "      <td>0</td>\n",
              "      <td>0</td>\n",
              "      <td>NaN</td>\n",
              "      <td>NaN</td>\n",
              "      <td>NaN</td>\n",
              "    </tr>\n",
              "    <tr>\n",
              "      <th>1</th>\n",
              "      <td>1</td>\n",
              "      <td>1</td>\n",
              "      <td>Sunrisers Hyderabad</td>\n",
              "      <td>Royal Challengers Bangalore</td>\n",
              "      <td>1</td>\n",
              "      <td>2</td>\n",
              "      <td>DA Warner</td>\n",
              "      <td>S Dhawan</td>\n",
              "      <td>TS Mills</td>\n",
              "      <td>0</td>\n",
              "      <td>...</td>\n",
              "      <td>0</td>\n",
              "      <td>0</td>\n",
              "      <td>0</td>\n",
              "      <td>0</td>\n",
              "      <td>0</td>\n",
              "      <td>0</td>\n",
              "      <td>0</td>\n",
              "      <td>NaN</td>\n",
              "      <td>NaN</td>\n",
              "      <td>NaN</td>\n",
              "    </tr>\n",
              "    <tr>\n",
              "      <th>2</th>\n",
              "      <td>1</td>\n",
              "      <td>1</td>\n",
              "      <td>Sunrisers Hyderabad</td>\n",
              "      <td>Royal Challengers Bangalore</td>\n",
              "      <td>1</td>\n",
              "      <td>3</td>\n",
              "      <td>DA Warner</td>\n",
              "      <td>S Dhawan</td>\n",
              "      <td>TS Mills</td>\n",
              "      <td>0</td>\n",
              "      <td>...</td>\n",
              "      <td>0</td>\n",
              "      <td>0</td>\n",
              "      <td>0</td>\n",
              "      <td>0</td>\n",
              "      <td>4</td>\n",
              "      <td>0</td>\n",
              "      <td>4</td>\n",
              "      <td>NaN</td>\n",
              "      <td>NaN</td>\n",
              "      <td>NaN</td>\n",
              "    </tr>\n",
              "    <tr>\n",
              "      <th>3</th>\n",
              "      <td>1</td>\n",
              "      <td>1</td>\n",
              "      <td>Sunrisers Hyderabad</td>\n",
              "      <td>Royal Challengers Bangalore</td>\n",
              "      <td>1</td>\n",
              "      <td>4</td>\n",
              "      <td>DA Warner</td>\n",
              "      <td>S Dhawan</td>\n",
              "      <td>TS Mills</td>\n",
              "      <td>0</td>\n",
              "      <td>...</td>\n",
              "      <td>0</td>\n",
              "      <td>0</td>\n",
              "      <td>0</td>\n",
              "      <td>0</td>\n",
              "      <td>0</td>\n",
              "      <td>0</td>\n",
              "      <td>0</td>\n",
              "      <td>NaN</td>\n",
              "      <td>NaN</td>\n",
              "      <td>NaN</td>\n",
              "    </tr>\n",
              "    <tr>\n",
              "      <th>4</th>\n",
              "      <td>1</td>\n",
              "      <td>1</td>\n",
              "      <td>Sunrisers Hyderabad</td>\n",
              "      <td>Royal Challengers Bangalore</td>\n",
              "      <td>1</td>\n",
              "      <td>5</td>\n",
              "      <td>DA Warner</td>\n",
              "      <td>S Dhawan</td>\n",
              "      <td>TS Mills</td>\n",
              "      <td>0</td>\n",
              "      <td>...</td>\n",
              "      <td>0</td>\n",
              "      <td>0</td>\n",
              "      <td>0</td>\n",
              "      <td>0</td>\n",
              "      <td>0</td>\n",
              "      <td>2</td>\n",
              "      <td>2</td>\n",
              "      <td>NaN</td>\n",
              "      <td>NaN</td>\n",
              "      <td>NaN</td>\n",
              "    </tr>\n",
              "  </tbody>\n",
              "</table>\n",
              "<p>5 rows × 21 columns</p>\n",
              "</div>"
            ],
            "text/plain": [
              "   match_id  inning         batting_team                 bowling_team  over  \\\n",
              "0         1       1  Sunrisers Hyderabad  Royal Challengers Bangalore     1   \n",
              "1         1       1  Sunrisers Hyderabad  Royal Challengers Bangalore     1   \n",
              "2         1       1  Sunrisers Hyderabad  Royal Challengers Bangalore     1   \n",
              "3         1       1  Sunrisers Hyderabad  Royal Challengers Bangalore     1   \n",
              "4         1       1  Sunrisers Hyderabad  Royal Challengers Bangalore     1   \n",
              "\n",
              "   ball    batsman non_striker    bowler  is_super_over  ...  bye_runs  \\\n",
              "0     1  DA Warner    S Dhawan  TS Mills              0  ...         0   \n",
              "1     2  DA Warner    S Dhawan  TS Mills              0  ...         0   \n",
              "2     3  DA Warner    S Dhawan  TS Mills              0  ...         0   \n",
              "3     4  DA Warner    S Dhawan  TS Mills              0  ...         0   \n",
              "4     5  DA Warner    S Dhawan  TS Mills              0  ...         0   \n",
              "\n",
              "   legbye_runs  noball_runs  penalty_runs  batsman_runs  extra_runs  \\\n",
              "0            0            0             0             0           0   \n",
              "1            0            0             0             0           0   \n",
              "2            0            0             0             4           0   \n",
              "3            0            0             0             0           0   \n",
              "4            0            0             0             0           2   \n",
              "\n",
              "   total_runs  player_dismissed dismissal_kind fielder  \n",
              "0           0               NaN            NaN     NaN  \n",
              "1           0               NaN            NaN     NaN  \n",
              "2           4               NaN            NaN     NaN  \n",
              "3           0               NaN            NaN     NaN  \n",
              "4           2               NaN            NaN     NaN  \n",
              "\n",
              "[5 rows x 21 columns]"
            ]
          },
          "execution_count": 4,
          "metadata": {},
          "output_type": "execute_result"
        }
      ],
      "source": [
        "score_df.head()"
      ]
    },
    {
      "cell_type": "markdown",
      "metadata": {
        "papermill": {
          "duration": 0.053995,
          "end_time": "2020-11-16T05:38:09.098533",
          "exception": false,
          "start_time": "2020-11-16T05:38:09.044538",
          "status": "completed"
        },
        "tags": [],
        "id": "eulR5VB7Fb23"
      },
      "source": [
        "# DATA INFORMATION"
      ]
    },
    {
      "cell_type": "code",
      "execution_count": null,
      "metadata": {
        "execution": {
          "iopub.execute_input": "2020-11-16T05:38:09.227822Z",
          "iopub.status.busy": "2020-11-16T05:38:09.226665Z",
          "iopub.status.idle": "2020-11-16T05:38:09.381947Z",
          "shell.execute_reply": "2020-11-16T05:38:09.381249Z"
        },
        "papermill": {
          "duration": 0.229817,
          "end_time": "2020-11-16T05:38:09.382091",
          "exception": false,
          "start_time": "2020-11-16T05:38:09.152274",
          "status": "completed"
        },
        "tags": [],
        "id": "3IhqwWXmFb23",
        "outputId": "9c5096db-cf40-48f1-dd46-a87b67ebaaa5"
      },
      "outputs": [
        {
          "name": "stdout",
          "output_type": "stream",
          "text": [
            "<class 'pandas.core.frame.DataFrame'>\n",
            "RangeIndex: 636 entries, 0 to 635\n",
            "Data columns (total 18 columns):\n",
            " #   Column           Non-Null Count  Dtype  \n",
            "---  ------           --------------  -----  \n",
            " 0   id               636 non-null    int64  \n",
            " 1   season           636 non-null    int64  \n",
            " 2   city             629 non-null    object \n",
            " 3   date             636 non-null    object \n",
            " 4   team1            636 non-null    object \n",
            " 5   team2            636 non-null    object \n",
            " 6   toss_winner      636 non-null    object \n",
            " 7   toss_decision    636 non-null    object \n",
            " 8   result           636 non-null    object \n",
            " 9   dl_applied       636 non-null    int64  \n",
            " 10  winner           633 non-null    object \n",
            " 11  win_by_runs      636 non-null    int64  \n",
            " 12  win_by_wickets   636 non-null    int64  \n",
            " 13  player_of_match  633 non-null    object \n",
            " 14  venue            636 non-null    object \n",
            " 15  umpire1          635 non-null    object \n",
            " 16  umpire2          635 non-null    object \n",
            " 17  umpire3          0 non-null      float64\n",
            "dtypes: float64(1), int64(5), object(12)\n",
            "memory usage: 89.6+ KB\n",
            "None\n",
            "<class 'pandas.core.frame.DataFrame'>\n",
            "RangeIndex: 150460 entries, 0 to 150459\n",
            "Data columns (total 21 columns):\n",
            " #   Column            Non-Null Count   Dtype \n",
            "---  ------            --------------   ----- \n",
            " 0   match_id          150460 non-null  int64 \n",
            " 1   inning            150460 non-null  int64 \n",
            " 2   batting_team      150460 non-null  object\n",
            " 3   bowling_team      150460 non-null  object\n",
            " 4   over              150460 non-null  int64 \n",
            " 5   ball              150460 non-null  int64 \n",
            " 6   batsman           150460 non-null  object\n",
            " 7   non_striker       150460 non-null  object\n",
            " 8   bowler            150460 non-null  object\n",
            " 9   is_super_over     150460 non-null  int64 \n",
            " 10  wide_runs         150460 non-null  int64 \n",
            " 11  bye_runs          150460 non-null  int64 \n",
            " 12  legbye_runs       150460 non-null  int64 \n",
            " 13  noball_runs       150460 non-null  int64 \n",
            " 14  penalty_runs      150460 non-null  int64 \n",
            " 15  batsman_runs      150460 non-null  int64 \n",
            " 16  extra_runs        150460 non-null  int64 \n",
            " 17  total_runs        150460 non-null  int64 \n",
            " 18  player_dismissed  7438 non-null    object\n",
            " 19  dismissal_kind    7438 non-null    object\n",
            " 20  fielder           5369 non-null    object\n",
            "dtypes: int64(13), object(8)\n",
            "memory usage: 24.1+ MB\n",
            "None\n"
          ]
        }
      ],
      "source": [
        "print(matches_df.info())\n",
        "print(score_df.info())"
      ]
    },
    {
      "cell_type": "code",
      "execution_count": null,
      "metadata": {
        "execution": {
          "iopub.execute_input": "2020-11-16T05:38:09.515449Z",
          "iopub.status.busy": "2020-11-16T05:38:09.513020Z",
          "iopub.status.idle": "2020-11-16T05:38:09.518663Z",
          "shell.execute_reply": "2020-11-16T05:38:09.517970Z"
        },
        "papermill": {
          "duration": 0.076322,
          "end_time": "2020-11-16T05:38:09.518800",
          "exception": false,
          "start_time": "2020-11-16T05:38:09.442478",
          "status": "completed"
        },
        "tags": [],
        "id": "wuRC3ojLFb24",
        "outputId": "758aed4b-08fd-4ad0-bb32-b3d022ae944f"
      },
      "outputs": [
        {
          "data": {
            "text/plain": [
              "636"
            ]
          },
          "execution_count": 6,
          "metadata": {},
          "output_type": "execute_result"
        }
      ],
      "source": [
        "matches_df[\"umpire3\"].isnull().sum()"
      ]
    },
    {
      "cell_type": "code",
      "execution_count": null,
      "metadata": {
        "execution": {
          "iopub.execute_input": "2020-11-16T05:38:09.654069Z",
          "iopub.status.busy": "2020-11-16T05:38:09.652422Z",
          "iopub.status.idle": "2020-11-16T05:38:09.657876Z",
          "shell.execute_reply": "2020-11-16T05:38:09.657232Z"
        },
        "papermill": {
          "duration": 0.076817,
          "end_time": "2020-11-16T05:38:09.658012",
          "exception": false,
          "start_time": "2020-11-16T05:38:09.581195",
          "status": "completed"
        },
        "tags": [],
        "id": "YWPH5HyiFb24",
        "outputId": "0f2a94df-5b3a-4045-d5e9-7999d615d656"
      },
      "outputs": [
        {
          "data": {
            "text/plain": [
              "626   NaN\n",
              "627   NaN\n",
              "628   NaN\n",
              "629   NaN\n",
              "630   NaN\n",
              "631   NaN\n",
              "632   NaN\n",
              "633   NaN\n",
              "634   NaN\n",
              "635   NaN\n",
              "Name: umpire3, dtype: float64"
            ]
          },
          "execution_count": 7,
          "metadata": {},
          "output_type": "execute_result"
        }
      ],
      "source": [
        "matches_df[\"umpire3\"].tail(10)"
      ]
    },
    {
      "cell_type": "code",
      "execution_count": null,
      "metadata": {
        "execution": {
          "iopub.execute_input": "2020-11-16T05:38:09.784120Z",
          "iopub.status.busy": "2020-11-16T05:38:09.783022Z",
          "iopub.status.idle": "2020-11-16T05:38:09.814005Z",
          "shell.execute_reply": "2020-11-16T05:38:09.813290Z"
        },
        "papermill": {
          "duration": 0.094851,
          "end_time": "2020-11-16T05:38:09.814156",
          "exception": false,
          "start_time": "2020-11-16T05:38:09.719305",
          "status": "completed"
        },
        "tags": [],
        "id": "rxH1musnFb25",
        "outputId": "a371516a-0188-4f25-ad4c-48660ea3fa98"
      },
      "outputs": [
        {
          "data": {
            "text/html": [
              "<div>\n",
              "<style scoped>\n",
              "    .dataframe tbody tr th:only-of-type {\n",
              "        vertical-align: middle;\n",
              "    }\n",
              "\n",
              "    .dataframe tbody tr th {\n",
              "        vertical-align: top;\n",
              "    }\n",
              "\n",
              "    .dataframe thead th {\n",
              "        text-align: right;\n",
              "    }\n",
              "</style>\n",
              "<table border=\"1\" class=\"dataframe\">\n",
              "  <thead>\n",
              "    <tr style=\"text-align: right;\">\n",
              "      <th></th>\n",
              "      <th>id</th>\n",
              "      <th>season</th>\n",
              "      <th>dl_applied</th>\n",
              "      <th>win_by_runs</th>\n",
              "      <th>win_by_wickets</th>\n",
              "      <th>umpire3</th>\n",
              "    </tr>\n",
              "  </thead>\n",
              "  <tbody>\n",
              "    <tr>\n",
              "      <th>count</th>\n",
              "      <td>636.000000</td>\n",
              "      <td>636.000000</td>\n",
              "      <td>636.000000</td>\n",
              "      <td>636.000000</td>\n",
              "      <td>636.000000</td>\n",
              "      <td>0.0</td>\n",
              "    </tr>\n",
              "    <tr>\n",
              "      <th>mean</th>\n",
              "      <td>318.500000</td>\n",
              "      <td>2012.490566</td>\n",
              "      <td>0.025157</td>\n",
              "      <td>13.682390</td>\n",
              "      <td>3.372642</td>\n",
              "      <td>NaN</td>\n",
              "    </tr>\n",
              "    <tr>\n",
              "      <th>std</th>\n",
              "      <td>183.741666</td>\n",
              "      <td>2.773026</td>\n",
              "      <td>0.156726</td>\n",
              "      <td>23.908877</td>\n",
              "      <td>3.420338</td>\n",
              "      <td>NaN</td>\n",
              "    </tr>\n",
              "    <tr>\n",
              "      <th>min</th>\n",
              "      <td>1.000000</td>\n",
              "      <td>2008.000000</td>\n",
              "      <td>0.000000</td>\n",
              "      <td>0.000000</td>\n",
              "      <td>0.000000</td>\n",
              "      <td>NaN</td>\n",
              "    </tr>\n",
              "    <tr>\n",
              "      <th>25%</th>\n",
              "      <td>159.750000</td>\n",
              "      <td>2010.000000</td>\n",
              "      <td>0.000000</td>\n",
              "      <td>0.000000</td>\n",
              "      <td>0.000000</td>\n",
              "      <td>NaN</td>\n",
              "    </tr>\n",
              "    <tr>\n",
              "      <th>50%</th>\n",
              "      <td>318.500000</td>\n",
              "      <td>2012.000000</td>\n",
              "      <td>0.000000</td>\n",
              "      <td>0.000000</td>\n",
              "      <td>4.000000</td>\n",
              "      <td>NaN</td>\n",
              "    </tr>\n",
              "    <tr>\n",
              "      <th>75%</th>\n",
              "      <td>477.250000</td>\n",
              "      <td>2015.000000</td>\n",
              "      <td>0.000000</td>\n",
              "      <td>20.000000</td>\n",
              "      <td>7.000000</td>\n",
              "      <td>NaN</td>\n",
              "    </tr>\n",
              "    <tr>\n",
              "      <th>max</th>\n",
              "      <td>636.000000</td>\n",
              "      <td>2017.000000</td>\n",
              "      <td>1.000000</td>\n",
              "      <td>146.000000</td>\n",
              "      <td>10.000000</td>\n",
              "      <td>NaN</td>\n",
              "    </tr>\n",
              "  </tbody>\n",
              "</table>\n",
              "</div>"
            ],
            "text/plain": [
              "               id       season  dl_applied  win_by_runs  win_by_wickets  \\\n",
              "count  636.000000   636.000000  636.000000   636.000000      636.000000   \n",
              "mean   318.500000  2012.490566    0.025157    13.682390        3.372642   \n",
              "std    183.741666     2.773026    0.156726    23.908877        3.420338   \n",
              "min      1.000000  2008.000000    0.000000     0.000000        0.000000   \n",
              "25%    159.750000  2010.000000    0.000000     0.000000        0.000000   \n",
              "50%    318.500000  2012.000000    0.000000     0.000000        4.000000   \n",
              "75%    477.250000  2015.000000    0.000000    20.000000        7.000000   \n",
              "max    636.000000  2017.000000    1.000000   146.000000       10.000000   \n",
              "\n",
              "       umpire3  \n",
              "count      0.0  \n",
              "mean       NaN  \n",
              "std        NaN  \n",
              "min        NaN  \n",
              "25%        NaN  \n",
              "50%        NaN  \n",
              "75%        NaN  \n",
              "max        NaN  "
            ]
          },
          "execution_count": 8,
          "metadata": {},
          "output_type": "execute_result"
        }
      ],
      "source": [
        "matches_df.describe()"
      ]
    },
    {
      "cell_type": "code",
      "execution_count": null,
      "metadata": {
        "execution": {
          "iopub.execute_input": "2020-11-16T05:38:09.938646Z",
          "iopub.status.busy": "2020-11-16T05:38:09.937735Z",
          "iopub.status.idle": "2020-11-16T05:38:09.941205Z",
          "shell.execute_reply": "2020-11-16T05:38:09.941754Z"
        },
        "papermill": {
          "duration": 0.06664,
          "end_time": "2020-11-16T05:38:09.941900",
          "exception": false,
          "start_time": "2020-11-16T05:38:09.875260",
          "status": "completed"
        },
        "tags": [],
        "id": "Nnap0jk7Fb25",
        "outputId": "81aeabd7-8c4f-4cad-efa8-d293ace48e6a"
      },
      "outputs": [
        {
          "data": {
            "text/plain": [
              "636"
            ]
          },
          "execution_count": 9,
          "metadata": {},
          "output_type": "execute_result"
        }
      ],
      "source": [
        "# Matches we have got in the dataset\n",
        "matches_df['id'].max()"
      ]
    },
    {
      "cell_type": "code",
      "execution_count": null,
      "metadata": {
        "execution": {
          "iopub.execute_input": "2020-11-16T05:38:10.061804Z",
          "iopub.status.busy": "2020-11-16T05:38:10.060772Z",
          "iopub.status.idle": "2020-11-16T05:38:10.064712Z",
          "shell.execute_reply": "2020-11-16T05:38:10.065279Z"
        },
        "papermill": {
          "duration": 0.066935,
          "end_time": "2020-11-16T05:38:10.065451",
          "exception": false,
          "start_time": "2020-11-16T05:38:09.998516",
          "status": "completed"
        },
        "tags": [],
        "id": "7fYfGlldFb26",
        "outputId": "06254e6c-dd00-475f-f092-26aeb85dd5b0"
      },
      "outputs": [
        {
          "data": {
            "text/plain": [
              "array([2017, 2008, 2009, 2010, 2011, 2012, 2013, 2014, 2015, 2016])"
            ]
          },
          "execution_count": 10,
          "metadata": {},
          "output_type": "execute_result"
        }
      ],
      "source": [
        "# Seasons we have got in the dataset\n",
        "matches_df['season'].unique()"
      ]
    },
    {
      "cell_type": "markdown",
      "metadata": {
        "papermill": {
          "duration": 0.058329,
          "end_time": "2020-11-16T05:38:10.181684",
          "exception": false,
          "start_time": "2020-11-16T05:38:10.123355",
          "status": "completed"
        },
        "tags": [],
        "id": "boL9pq8RFb26"
      },
      "source": [
        "**Team won by Maximum Runs**\n"
      ]
    },
    {
      "cell_type": "code",
      "execution_count": null,
      "metadata": {
        "execution": {
          "iopub.execute_input": "2020-11-16T05:38:10.307413Z",
          "iopub.status.busy": "2020-11-16T05:38:10.306168Z",
          "iopub.status.idle": "2020-11-16T05:38:10.312242Z",
          "shell.execute_reply": "2020-11-16T05:38:10.311509Z"
        },
        "papermill": {
          "duration": 0.069456,
          "end_time": "2020-11-16T05:38:10.312400",
          "exception": false,
          "start_time": "2020-11-16T05:38:10.242944",
          "status": "completed"
        },
        "tags": [],
        "id": "x3WN2XIIFb26",
        "outputId": "83966bff-2168-43ba-cc36-e7bc006e9e61"
      },
      "outputs": [
        {
          "data": {
            "text/plain": [
              "id                               44\n",
              "season                         2017\n",
              "city                          Delhi\n",
              "date                     2017-05-06\n",
              "team1                Mumbai Indians\n",
              "team2              Delhi Daredevils\n",
              "toss_winner        Delhi Daredevils\n",
              "toss_decision                 field\n",
              "result                       normal\n",
              "dl_applied                        0\n",
              "winner               Mumbai Indians\n",
              "win_by_runs                     146\n",
              "win_by_wickets                    0\n",
              "player_of_match         LMP Simmons\n",
              "venue              Feroz Shah Kotla\n",
              "umpire1                 Nitin Menon\n",
              "umpire2                   CK Nandan\n",
              "umpire3                         NaN\n",
              "Name: 43, dtype: object"
            ]
          },
          "execution_count": 11,
          "metadata": {},
          "output_type": "execute_result"
        }
      ],
      "source": [
        "matches_df.iloc[matches_df['win_by_runs'].idxmax()]"
      ]
    },
    {
      "cell_type": "code",
      "execution_count": null,
      "metadata": {
        "execution": {
          "iopub.execute_input": "2020-11-16T05:38:10.433489Z",
          "iopub.status.busy": "2020-11-16T05:38:10.432780Z",
          "iopub.status.idle": "2020-11-16T05:38:10.439887Z",
          "shell.execute_reply": "2020-11-16T05:38:10.439261Z"
        },
        "papermill": {
          "duration": 0.069716,
          "end_time": "2020-11-16T05:38:10.439997",
          "exception": false,
          "start_time": "2020-11-16T05:38:10.370281",
          "status": "completed"
        },
        "tags": [],
        "id": "J6vhaMEiFb27",
        "outputId": "2acf3b18-e864-4273-9a0e-94b041d8b24a"
      },
      "outputs": [
        {
          "data": {
            "text/plain": [
              "'Mumbai Indians'"
            ]
          },
          "execution_count": 12,
          "metadata": {},
          "output_type": "execute_result"
        }
      ],
      "source": [
        "matches_df.iloc[matches_df['win_by_runs'].idxmax()]['winner']"
      ]
    },
    {
      "cell_type": "markdown",
      "metadata": {
        "papermill": {
          "duration": 0.059604,
          "end_time": "2020-11-16T05:38:10.558437",
          "exception": false,
          "start_time": "2020-11-16T05:38:10.498833",
          "status": "completed"
        },
        "tags": [],
        "id": "EAdpQkP8Fb27"
      },
      "source": [
        "**Team won by Maximum Wickets**"
      ]
    },
    {
      "cell_type": "code",
      "execution_count": null,
      "metadata": {
        "execution": {
          "iopub.execute_input": "2020-11-16T05:38:10.683104Z",
          "iopub.status.busy": "2020-11-16T05:38:10.682014Z",
          "iopub.status.idle": "2020-11-16T05:38:10.685873Z",
          "shell.execute_reply": "2020-11-16T05:38:10.686438Z"
        },
        "papermill": {
          "duration": 0.068014,
          "end_time": "2020-11-16T05:38:10.686596",
          "exception": false,
          "start_time": "2020-11-16T05:38:10.618582",
          "status": "completed"
        },
        "tags": [],
        "id": "13C5zJpUFb27",
        "outputId": "54f84b95-64e1-4be8-f010-86386a862845"
      },
      "outputs": [
        {
          "data": {
            "text/plain": [
              "'Kolkata Knight Riders'"
            ]
          },
          "execution_count": 13,
          "metadata": {},
          "output_type": "execute_result"
        }
      ],
      "source": [
        "matches_df.iloc[matches_df['win_by_wickets'].idxmax()]['winner']"
      ]
    },
    {
      "cell_type": "markdown",
      "metadata": {
        "papermill": {
          "duration": 0.056239,
          "end_time": "2020-11-16T05:38:10.801166",
          "exception": false,
          "start_time": "2020-11-16T05:38:10.744927",
          "status": "completed"
        },
        "tags": [],
        "id": "zZGq_S8-Fb28"
      },
      "source": [
        "**Team won by minimum runs**"
      ]
    },
    {
      "cell_type": "code",
      "execution_count": null,
      "metadata": {
        "execution": {
          "iopub.execute_input": "2020-11-16T05:38:10.926485Z",
          "iopub.status.busy": "2020-11-16T05:38:10.925507Z",
          "iopub.status.idle": "2020-11-16T05:38:10.948799Z",
          "shell.execute_reply": "2020-11-16T05:38:10.948053Z"
        },
        "papermill": {
          "duration": 0.088555,
          "end_time": "2020-11-16T05:38:10.948943",
          "exception": false,
          "start_time": "2020-11-16T05:38:10.860388",
          "status": "completed"
        },
        "tags": [],
        "id": "AyNn4KzuFb28",
        "outputId": "6972315c-022b-427a-97d0-6e62c7024ed8"
      },
      "outputs": [
        {
          "data": {
            "text/plain": [
              "'Mumbai Indians'"
            ]
          },
          "execution_count": 14,
          "metadata": {},
          "output_type": "execute_result"
        }
      ],
      "source": [
        "matches_df.iloc[matches_df[matches_df['win_by_runs'].ge(1)].win_by_runs.idxmin()]['winner']"
      ]
    },
    {
      "cell_type": "markdown",
      "metadata": {
        "papermill": {
          "duration": 0.057965,
          "end_time": "2020-11-16T05:38:11.064485",
          "exception": false,
          "start_time": "2020-11-16T05:38:11.006520",
          "status": "completed"
        },
        "tags": [],
        "id": "gD_iLkCFFb28"
      },
      "source": [
        "**Team won by Minimum Wickets**"
      ]
    },
    {
      "cell_type": "code",
      "execution_count": null,
      "metadata": {
        "execution": {
          "iopub.execute_input": "2020-11-16T05:38:11.194996Z",
          "iopub.status.busy": "2020-11-16T05:38:11.194044Z",
          "iopub.status.idle": "2020-11-16T05:38:11.197761Z",
          "shell.execute_reply": "2020-11-16T05:38:11.198351Z"
        },
        "papermill": {
          "duration": 0.074698,
          "end_time": "2020-11-16T05:38:11.198519",
          "exception": false,
          "start_time": "2020-11-16T05:38:11.123821",
          "status": "completed"
        },
        "tags": [],
        "id": "KnzNxkiNFb28",
        "outputId": "be9b33ce-e8f3-4aa7-e7d0-761f8740e8a4"
      },
      "outputs": [
        {
          "data": {
            "text/plain": [
              "id                                   560\n",
              "season                              2015\n",
              "city                             Kolkata\n",
              "date                          2015-05-09\n",
              "team1                    Kings XI Punjab\n",
              "team2              Kolkata Knight Riders\n",
              "toss_winner              Kings XI Punjab\n",
              "toss_decision                        bat\n",
              "result                            normal\n",
              "dl_applied                             0\n",
              "winner             Kolkata Knight Riders\n",
              "win_by_runs                            0\n",
              "win_by_wickets                         1\n",
              "player_of_match               AD Russell\n",
              "venue                       Eden Gardens\n",
              "umpire1                     AK Chaudhary\n",
              "umpire2                  HDPK Dharmasena\n",
              "umpire3                              NaN\n",
              "Name: 559, dtype: object"
            ]
          },
          "execution_count": 15,
          "metadata": {},
          "output_type": "execute_result"
        }
      ],
      "source": [
        "matches_df.iloc[matches_df[matches_df['win_by_wickets'].ge(1)].win_by_wickets.idxmin()]"
      ]
    },
    {
      "cell_type": "code",
      "execution_count": null,
      "metadata": {
        "execution": {
          "iopub.execute_input": "2020-11-16T05:38:11.394417Z",
          "iopub.status.busy": "2020-11-16T05:38:11.393302Z",
          "iopub.status.idle": "2020-11-16T05:38:11.405799Z",
          "shell.execute_reply": "2020-11-16T05:38:11.406687Z"
        },
        "papermill": {
          "duration": 0.117689,
          "end_time": "2020-11-16T05:38:11.406907",
          "exception": false,
          "start_time": "2020-11-16T05:38:11.289218",
          "status": "completed"
        },
        "tags": [],
        "id": "yvhe6LTKFb29",
        "outputId": "eb4a00bb-16ec-4505-b454-600b135b220c"
      },
      "outputs": [
        {
          "data": {
            "text/plain": [
              "'Kolkata Knight Riders'"
            ]
          },
          "execution_count": 16,
          "metadata": {},
          "output_type": "execute_result"
        }
      ],
      "source": [
        "matches_df.iloc[matches_df[matches_df['win_by_wickets'].ge(1)].win_by_wickets.idxmin()]['winner']"
      ]
    },
    {
      "cell_type": "markdown",
      "metadata": {
        "papermill": {
          "duration": 0.090971,
          "end_time": "2020-11-16T05:38:11.584422",
          "exception": false,
          "start_time": "2020-11-16T05:38:11.493451",
          "status": "completed"
        },
        "tags": [],
        "id": "hcGt3SlLFb29"
      },
      "source": [
        "## Observation :"
      ]
    },
    {
      "cell_type": "markdown",
      "metadata": {
        "papermill": {
          "duration": 0.085904,
          "end_time": "2020-11-16T05:38:11.756895",
          "exception": false,
          "start_time": "2020-11-16T05:38:11.670991",
          "status": "completed"
        },
        "tags": [],
        "id": "wBlgjG5uFb29"
      },
      "source": [
        "> 1. **Mumbai Indians** is the team which won by maximum and minimum **runs**\n",
        "> 2. **Kolkata Knight Riders** is the team which won by maximum and minimum **wickets**"
      ]
    },
    {
      "cell_type": "markdown",
      "metadata": {
        "papermill": {
          "duration": 0.101526,
          "end_time": "2020-11-16T05:38:11.944270",
          "exception": false,
          "start_time": "2020-11-16T05:38:11.842744",
          "status": "completed"
        },
        "tags": [],
        "id": "9MitnCiWFb29"
      },
      "source": [
        "## Season Which had most number of matches"
      ]
    },
    {
      "cell_type": "code",
      "execution_count": null,
      "metadata": {
        "execution": {
          "iopub.execute_input": "2020-11-16T05:38:12.127118Z",
          "iopub.status.busy": "2020-11-16T05:38:12.126102Z",
          "iopub.status.idle": "2020-11-16T05:38:12.537941Z",
          "shell.execute_reply": "2020-11-16T05:38:12.536592Z"
        },
        "papermill": {
          "duration": 0.505143,
          "end_time": "2020-11-16T05:38:12.538130",
          "exception": false,
          "start_time": "2020-11-16T05:38:12.032987",
          "status": "completed"
        },
        "tags": [],
        "id": "Hv7QHpyBFb29",
        "outputId": "1be8d591-c687-455c-96d4-95a904977124"
      },
      "outputs": [
        {
          "data": {
            "image/png": "[encoded data removed]",
            "text/plain": [
              "<Figure size 864x432 with 1 Axes>"
            ]
          },
          "metadata": {
            "needs_background": "light"
          },
          "output_type": "display_data"
        }
      ],
      "source": [
        "plt.figure(figsize=(12,6))\n",
        "sns.countplot(x='season', data=matches_df)\n",
        "plt.show()"
      ]
    },
    {
      "cell_type": "markdown",
      "metadata": {
        "papermill": {
          "duration": 0.063776,
          "end_time": "2020-11-16T05:38:12.690735",
          "exception": false,
          "start_time": "2020-11-16T05:38:12.626959",
          "status": "completed"
        },
        "tags": [],
        "id": "mdoY8aieFb2-"
      },
      "source": [
        "> In **2013**, we have the most number of matches"
      ]
    },
    {
      "cell_type": "code",
      "execution_count": null,
      "metadata": {
        "execution": {
          "iopub.execute_input": "2020-11-16T05:38:12.842511Z",
          "iopub.status.busy": "2020-11-16T05:38:12.841281Z",
          "iopub.status.idle": "2020-11-16T05:38:13.087483Z",
          "shell.execute_reply": "2020-11-16T05:38:13.086896Z"
        },
        "papermill": {
          "duration": 0.33528,
          "end_time": "2020-11-16T05:38:13.087597",
          "exception": false,
          "start_time": "2020-11-16T05:38:12.752317",
          "status": "completed"
        },
        "tags": [],
        "id": "MwbYvm4KFb2-",
        "outputId": "f2511907-8336-4d71-fe4f-ec0c849e6eba"
      },
      "outputs": [
        {
          "data": {
            "image/png": "[encoded data removed]",
            "text/plain": [
              "<Figure size 864x432 with 1 Axes>"
            ]
          },
          "metadata": {
            "needs_background": "light"
          },
          "output_type": "display_data"
        }
      ],
      "source": [
        "plt.figure(figsize=(12,6))\n",
        "data = matches_df.winner.value_counts()\n",
        "sns.barplot(y = data.index, x = data, orient='h')\n",
        "plt.show()"
      ]
    },
    {
      "cell_type": "markdown",
      "metadata": {
        "papermill": {
          "duration": 0.061376,
          "end_time": "2020-11-16T05:38:13.207898",
          "exception": false,
          "start_time": "2020-11-16T05:38:13.146522",
          "status": "completed"
        },
        "tags": [],
        "id": "Oz7Eoj7TFb2-"
      },
      "source": [
        "> **Mumbai Indians** are the winners in most of the matches"
      ]
    },
    {
      "cell_type": "markdown",
      "metadata": {
        "papermill": {
          "duration": 0.063796,
          "end_time": "2020-11-16T05:38:13.338665",
          "exception": false,
          "start_time": "2020-11-16T05:38:13.274869",
          "status": "completed"
        },
        "tags": [],
        "id": "ihV7tolBFb2-"
      },
      "source": [
        "## Top Player of the match winners"
      ]
    },
    {
      "cell_type": "code",
      "execution_count": null,
      "metadata": {
        "execution": {
          "iopub.execute_input": "2020-11-16T05:38:13.476119Z",
          "iopub.status.busy": "2020-11-16T05:38:13.474825Z",
          "iopub.status.idle": "2020-11-16T05:38:13.777848Z",
          "shell.execute_reply": "2020-11-16T05:38:13.778470Z"
        },
        "papermill": {
          "duration": 0.3761,
          "end_time": "2020-11-16T05:38:13.778629",
          "exception": false,
          "start_time": "2020-11-16T05:38:13.402529",
          "status": "completed"
        },
        "tags": [],
        "id": "87d9isA6Fb2-",
        "outputId": "f50dc127-70cb-4577-e3f0-72ea0e714f1e"
      },
      "outputs": [
        {
          "data": {
            "image/png": "[encoded data removed]",
            "text/plain": [
              "<Figure size 1080x576 with 1 Axes>"
            ]
          },
          "metadata": {
            "needs_background": "light"
          },
          "output_type": "display_data"
        }
      ],
      "source": [
        "top_players = matches_df.player_of_match.value_counts()[:10]\n",
        "#sns.barplot(x=\"day\", y=\"total_bill\", data=df)\n",
        "fig, ax = plt.subplots(figsize=(15,8))\n",
        "ax.set_ylim([0,20])\n",
        "ax.set_ylabel(\"Count\")\n",
        "ax.set_title(\"Top player of the match Winners\")\n",
        "top_players.plot.bar()\n",
        "sns.barplot(x = top_players.index, y = top_players, orient='v', palette=\"Blues\");\n",
        "plt.show()"
      ]
    },
    {
      "cell_type": "markdown",
      "metadata": {
        "papermill": {
          "duration": 0.06317,
          "end_time": "2020-11-16T05:38:13.906438",
          "exception": false,
          "start_time": "2020-11-16T05:38:13.843268",
          "status": "completed"
        },
        "tags": [],
        "id": "xPp9K6LNFb2_"
      },
      "source": [
        "> **CH Gayle** is the most Successful player in all match winners"
      ]
    },
    {
      "cell_type": "markdown",
      "metadata": {
        "papermill": {
          "duration": 0.063334,
          "end_time": "2020-11-16T05:38:14.032865",
          "exception": false,
          "start_time": "2020-11-16T05:38:13.969531",
          "status": "completed"
        },
        "tags": [],
        "id": "PWkHHeWDFb2_"
      },
      "source": [
        "**Number of matches in each venue:**"
      ]
    },
    {
      "cell_type": "code",
      "execution_count": null,
      "metadata": {
        "execution": {
          "iopub.execute_input": "2020-11-16T05:38:14.199810Z",
          "iopub.status.busy": "2020-11-16T05:38:14.169720Z",
          "iopub.status.idle": "2020-11-16T05:38:14.633794Z",
          "shell.execute_reply": "2020-11-16T05:38:14.634388Z"
        },
        "papermill": {
          "duration": 0.536586,
          "end_time": "2020-11-16T05:38:14.634545",
          "exception": false,
          "start_time": "2020-11-16T05:38:14.097959",
          "status": "completed"
        },
        "tags": [],
        "id": "iXEENC74Fb2_",
        "outputId": "3038ae22-99b8-47ad-83ca-56e01bc26d8f"
      },
      "outputs": [
        {
          "data": {
            "image/png": "[encoded data removed]",
            "text/plain": [
              "<Figure size 864x432 with 1 Axes>"
            ]
          },
          "metadata": {
            "needs_background": "light"
          },
          "output_type": "display_data"
        }
      ],
      "source": [
        "plt.figure(figsize=(12,6))\n",
        "sns.countplot(x='venue', data=matches_df)\n",
        "plt.xticks(rotation='vertical')\n",
        "plt.show()"
      ]
    },
    {
      "cell_type": "markdown",
      "metadata": {
        "papermill": {
          "duration": 0.113057,
          "end_time": "2020-11-16T05:38:14.811118",
          "exception": false,
          "start_time": "2020-11-16T05:38:14.698061",
          "status": "completed"
        },
        "tags": [],
        "id": "5KJiQu_VFb2_"
      },
      "source": [
        "> There are quite a few venues present in the data with **\"M Chinnaswamy Stadium\"** being the one with most number of matches followed by **\"Eden Gardens\"**"
      ]
    },
    {
      "cell_type": "markdown",
      "metadata": {
        "papermill": {
          "duration": 0.065202,
          "end_time": "2020-11-16T05:38:14.941875",
          "exception": false,
          "start_time": "2020-11-16T05:38:14.876673",
          "status": "completed"
        },
        "tags": [],
        "id": "fUQGlWyuFb3A"
      },
      "source": [
        "**Number of matches played by each team:**"
      ]
    },
    {
      "cell_type": "code",
      "execution_count": null,
      "metadata": {
        "execution": {
          "iopub.execute_input": "2020-11-16T05:38:15.088640Z",
          "iopub.status.busy": "2020-11-16T05:38:15.087490Z",
          "iopub.status.idle": "2020-11-16T05:38:15.428613Z",
          "shell.execute_reply": "2020-11-16T05:38:15.429181Z"
        },
        "papermill": {
          "duration": 0.421808,
          "end_time": "2020-11-16T05:38:15.429350",
          "exception": false,
          "start_time": "2020-11-16T05:38:15.007542",
          "status": "completed"
        },
        "tags": [],
        "id": "FXbZHUWPFb3A",
        "outputId": "577bf052-68a3-46b1-b05b-47ee3463ddbb"
      },
      "outputs": [
        {
          "data": {
            "image/png": "[encoded data removed]",
            "text/plain": [
              "<Figure size 864x432 with 1 Axes>"
            ]
          },
          "metadata": {
            "needs_background": "light"
          },
          "output_type": "display_data"
        }
      ],
      "source": [
        "temp_df = pd.melt(matches_df, id_vars=['id','season'], value_vars=['team1', 'team2'])\n",
        "\n",
        "plt.figure(figsize=(12,6))\n",
        "sns.countplot(x='value', data=temp_df)\n",
        "plt.xticks(rotation='vertical')\n",
        "plt.show()"
      ]
    },
    {
      "cell_type": "markdown",
      "metadata": {
        "papermill": {
          "duration": 0.064649,
          "end_time": "2020-11-16T05:38:15.561654",
          "exception": false,
          "start_time": "2020-11-16T05:38:15.497005",
          "status": "completed"
        },
        "tags": [],
        "id": "ab-7RHkUFb3A"
      },
      "source": [
        "> **\"Mumbai Indians\"** lead the pack with most number of matches played followed by **\"Royal Challengers Bangalore\"**. There are also teams with very few matches like *'Rising Pune Supergiants'*, *'Gujarat Lions'* as they are new teams that came in only last season."
      ]
    },
    {
      "cell_type": "markdown",
      "metadata": {
        "papermill": {
          "duration": 0.066923,
          "end_time": "2020-11-16T05:38:15.695835",
          "exception": false,
          "start_time": "2020-11-16T05:38:15.628912",
          "status": "completed"
        },
        "tags": [],
        "id": "XsPsPYHuFb3I"
      },
      "source": [
        "**Number of wins per team:**"
      ]
    },
    {
      "cell_type": "code",
      "execution_count": null,
      "metadata": {
        "execution": {
          "iopub.execute_input": "2020-11-16T05:38:15.856762Z",
          "iopub.status.busy": "2020-11-16T05:38:15.841404Z",
          "iopub.status.idle": "2020-11-16T05:38:16.084110Z",
          "shell.execute_reply": "2020-11-16T05:38:16.084723Z"
        },
        "papermill": {
          "duration": 0.321061,
          "end_time": "2020-11-16T05:38:16.084878",
          "exception": false,
          "start_time": "2020-11-16T05:38:15.763817",
          "status": "completed"
        },
        "tags": [],
        "id": "UWDKelIwFb3I",
        "outputId": "ac8b42d9-6cf8-445e-bf9f-913726a077f7"
      },
      "outputs": [
        {
          "data": {
            "image/png": "[encoded data removed]",
            "text/plain": [
              "<Figure size 864x432 with 1 Axes>"
            ]
          },
          "metadata": {
            "needs_background": "light"
          },
          "output_type": "display_data"
        }
      ],
      "source": [
        "plt.figure(figsize=(12,6))\n",
        "sns.countplot(x='winner', data=matches_df)\n",
        "plt.xticks(rotation=90)\n",
        "plt.show()"
      ]
    },
    {
      "cell_type": "markdown",
      "metadata": {
        "papermill": {
          "duration": 0.069535,
          "end_time": "2020-11-16T05:38:16.223210",
          "exception": false,
          "start_time": "2020-11-16T05:38:16.153675",
          "status": "completed"
        },
        "tags": [],
        "id": "_A93On88Fb3J"
      },
      "source": [
        "> **MI** again leads the pack followed by CSK."
      ]
    },
    {
      "cell_type": "markdown",
      "metadata": {
        "papermill": {
          "duration": 0.069163,
          "end_time": "2020-11-16T05:38:16.360789",
          "exception": false,
          "start_time": "2020-11-16T05:38:16.291626",
          "status": "completed"
        },
        "tags": [],
        "id": "dI5ca-lqFb3J"
      },
      "source": [
        "**Champions each season:**\n",
        "\n",
        "Now let us see the champions in each season."
      ]
    },
    {
      "cell_type": "code",
      "execution_count": null,
      "metadata": {
        "execution": {
          "iopub.execute_input": "2020-11-16T05:38:16.516463Z",
          "iopub.status.busy": "2020-11-16T05:38:16.506527Z",
          "iopub.status.idle": "2020-11-16T05:38:16.519474Z",
          "shell.execute_reply": "2020-11-16T05:38:16.520031Z"
        },
        "papermill": {
          "duration": 0.089079,
          "end_time": "2020-11-16T05:38:16.520179",
          "exception": false,
          "start_time": "2020-11-16T05:38:16.431100",
          "status": "completed"
        },
        "tags": [],
        "id": "OWwusxdAFb3J",
        "outputId": "8f8d1e35-c330-46c0-b25b-f58945fef52e"
      },
      "outputs": [
        {
          "data": {
            "text/html": [
              "<div>\n",
              "<style scoped>\n",
              "    .dataframe tbody tr th:only-of-type {\n",
              "        vertical-align: middle;\n",
              "    }\n",
              "\n",
              "    .dataframe tbody tr th {\n",
              "        vertical-align: top;\n",
              "    }\n",
              "\n",
              "    .dataframe thead th {\n",
              "        text-align: right;\n",
              "    }\n",
              "</style>\n",
              "<table border=\"1\" class=\"dataframe\">\n",
              "  <thead>\n",
              "    <tr style=\"text-align: right;\">\n",
              "      <th></th>\n",
              "      <th>season</th>\n",
              "      <th>winner</th>\n",
              "    </tr>\n",
              "  </thead>\n",
              "  <tbody>\n",
              "    <tr>\n",
              "      <th>0</th>\n",
              "      <td>2017</td>\n",
              "      <td>Mumbai Indians</td>\n",
              "    </tr>\n",
              "    <tr>\n",
              "      <th>1</th>\n",
              "      <td>2008</td>\n",
              "      <td>Rajasthan Royals</td>\n",
              "    </tr>\n",
              "    <tr>\n",
              "      <th>2</th>\n",
              "      <td>2009</td>\n",
              "      <td>Deccan Chargers</td>\n",
              "    </tr>\n",
              "    <tr>\n",
              "      <th>3</th>\n",
              "      <td>2010</td>\n",
              "      <td>Chennai Super Kings</td>\n",
              "    </tr>\n",
              "    <tr>\n",
              "      <th>4</th>\n",
              "      <td>2011</td>\n",
              "      <td>Chennai Super Kings</td>\n",
              "    </tr>\n",
              "    <tr>\n",
              "      <th>5</th>\n",
              "      <td>2012</td>\n",
              "      <td>Kolkata Knight Riders</td>\n",
              "    </tr>\n",
              "    <tr>\n",
              "      <th>6</th>\n",
              "      <td>2013</td>\n",
              "      <td>Mumbai Indians</td>\n",
              "    </tr>\n",
              "    <tr>\n",
              "      <th>7</th>\n",
              "      <td>2014</td>\n",
              "      <td>Kolkata Knight Riders</td>\n",
              "    </tr>\n",
              "    <tr>\n",
              "      <th>8</th>\n",
              "      <td>2015</td>\n",
              "      <td>Mumbai Indians</td>\n",
              "    </tr>\n",
              "    <tr>\n",
              "      <th>9</th>\n",
              "      <td>2016</td>\n",
              "      <td>Sunrisers Hyderabad</td>\n",
              "    </tr>\n",
              "  </tbody>\n",
              "</table>\n",
              "</div>"
            ],
            "text/plain": [
              "   season                 winner\n",
              "0    2017         Mumbai Indians\n",
              "1    2008       Rajasthan Royals\n",
              "2    2009        Deccan Chargers\n",
              "3    2010    Chennai Super Kings\n",
              "4    2011    Chennai Super Kings\n",
              "5    2012  Kolkata Knight Riders\n",
              "6    2013         Mumbai Indians\n",
              "7    2014  Kolkata Knight Riders\n",
              "8    2015         Mumbai Indians\n",
              "9    2016    Sunrisers Hyderabad"
            ]
          },
          "execution_count": 23,
          "metadata": {},
          "output_type": "execute_result"
        }
      ],
      "source": [
        "temp_df = matches_df.drop_duplicates(subset=['season'], keep='last')[['season', 'winner']].reset_index(drop=True)\n",
        "temp_df"
      ]
    },
    {
      "cell_type": "markdown",
      "metadata": {
        "papermill": {
          "duration": 0.075988,
          "end_time": "2020-11-16T05:38:16.666164",
          "exception": false,
          "start_time": "2020-11-16T05:38:16.590176",
          "status": "completed"
        },
        "tags": [],
        "id": "VhHHVTLBFb3K"
      },
      "source": [
        "**Toss decision:**\n",
        "\n",
        "Let us see the toss decisions taken so far."
      ]
    },
    {
      "cell_type": "code",
      "execution_count": null,
      "metadata": {
        "execution": {
          "iopub.execute_input": "2020-11-16T05:38:16.822210Z",
          "iopub.status.busy": "2020-11-16T05:38:16.820593Z",
          "iopub.status.idle": "2020-11-16T05:38:16.880090Z",
          "shell.execute_reply": "2020-11-16T05:38:16.880722Z"
        },
        "papermill": {
          "duration": 0.144066,
          "end_time": "2020-11-16T05:38:16.880885",
          "exception": false,
          "start_time": "2020-11-16T05:38:16.736819",
          "status": "completed"
        },
        "tags": [],
        "id": "Ov86EuIwFb3K",
        "outputId": "418d63ab-0089-4272-ce45-3b02d69a0479"
      },
      "outputs": [
        {
          "data": {
            "image/png": "[encoded data removed]",
            "text/plain": [
              "<Figure size 432x288 with 1 Axes>"
            ]
          },
          "metadata": {},
          "output_type": "display_data"
        }
      ],
      "source": [
        "temp_series = matches_df.toss_decision.value_counts()\n",
        "labels = (np.array(temp_series.index))\n",
        "sizes = (np.array((temp_series / temp_series.sum())*100))\n",
        "colors = ['gold', 'lightskyblue']\n",
        "plt.pie(sizes, labels=labels, colors=colors,\n",
        "        autopct='%1.1f%%', shadow=True, startangle=90)\n",
        "plt.title(\"Toss decision percentage\")\n",
        "plt.show()\n"
      ]
    },
    {
      "cell_type": "markdown",
      "metadata": {
        "papermill": {
          "duration": 0.075217,
          "end_time": "2020-11-16T05:38:17.035000",
          "exception": false,
          "start_time": "2020-11-16T05:38:16.959783",
          "status": "completed"
        },
        "tags": [],
        "id": "4LiKclVoFb3K"
      },
      "source": [
        "> Almost 55% of the toss decisions are made to field first. Now let us see how this decision varied over time."
      ]
    },
    {
      "cell_type": "code",
      "execution_count": null,
      "metadata": {
        "execution": {
          "iopub.execute_input": "2020-11-16T05:38:17.189161Z",
          "iopub.status.busy": "2020-11-16T05:38:17.186541Z",
          "iopub.status.idle": "2020-11-16T05:38:17.451739Z",
          "shell.execute_reply": "2020-11-16T05:38:17.452414Z"
        },
        "papermill": {
          "duration": 0.34646,
          "end_time": "2020-11-16T05:38:17.452587",
          "exception": false,
          "start_time": "2020-11-16T05:38:17.106127",
          "status": "completed"
        },
        "tags": [],
        "id": "s_rQoQz9Fb3L",
        "outputId": "e868d13a-3f12-4564-d7dc-aa34a533bf39"
      },
      "outputs": [
        {
          "data": {
            "image/png": "[encoded data removed]",
            "text/plain": [
              "<Figure size 864x432 with 1 Axes>"
            ]
          },
          "metadata": {
            "needs_background": "light"
          },
          "output_type": "display_data"
        }
      ],
      "source": [
        "plt.figure(figsize=(12,6))\n",
        "sns.countplot(x='season', hue='toss_decision', data=matches_df)\n",
        "plt.xticks(rotation='vertical')\n",
        "plt.show()"
      ]
    },
    {
      "cell_type": "markdown",
      "metadata": {
        "papermill": {
          "duration": 0.079959,
          "end_time": "2020-11-16T05:38:17.615218",
          "exception": false,
          "start_time": "2020-11-16T05:38:17.535259",
          "status": "completed"
        },
        "tags": [],
        "id": "aAz7-ywCFb3x"
      },
      "source": [
        "> It seems during the initial years, teams wanted to bat first. Voila.! Look at the **2016 season**, most of the toss decisions are to field first."
      ]
    },
    {
      "cell_type": "code",
      "execution_count": null,
      "metadata": {
        "execution": {
          "iopub.execute_input": "2020-11-16T05:38:17.792022Z",
          "iopub.status.busy": "2020-11-16T05:38:17.790917Z",
          "iopub.status.idle": "2020-11-16T05:38:17.851899Z",
          "shell.execute_reply": "2020-11-16T05:38:17.852483Z"
        },
        "papermill": {
          "duration": 0.159097,
          "end_time": "2020-11-16T05:38:17.852672",
          "exception": false,
          "start_time": "2020-11-16T05:38:17.693575",
          "status": "completed"
        },
        "tags": [],
        "id": "87oDZJWmFb3y",
        "outputId": "59e3e69e-ca35-4515-dffe-9b30253175bb"
      },
      "outputs": [
        {
          "data": {
            "image/png": "[encoded data removed]",
            "text/plain": [
              "<Figure size 432x288 with 1 Axes>"
            ]
          },
          "metadata": {},
          "output_type": "display_data"
        }
      ],
      "source": [
        "# Since there is a very strong trend towards batting second let us see the win percentage of teams batting second.\n",
        "num_of_wins = (matches_df.win_by_wickets>0).sum()\n",
        "num_of_loss = (matches_df.win_by_wickets==0).sum()\n",
        "labels = [\"Wins\", \"Loss\"]\n",
        "total = float(num_of_wins + num_of_loss)\n",
        "sizes = [(num_of_wins/total)*100, (num_of_loss/total)*100]\n",
        "colors = ['gold', 'lightskyblue']\n",
        "plt.pie(sizes, labels=labels, colors=colors,\n",
        "        autopct='%1.1f%%', shadow=True, startangle=90)\n",
        "plt.title(\"Win percentage batting second\")\n",
        "plt.show()"
      ]
    },
    {
      "cell_type": "markdown",
      "metadata": {
        "papermill": {
          "duration": 0.081064,
          "end_time": "2020-11-16T05:38:18.015601",
          "exception": false,
          "start_time": "2020-11-16T05:38:17.934537",
          "status": "completed"
        },
        "tags": [],
        "id": "cwXkcZECFb3z"
      },
      "source": [
        "> So percentage of times teams batting second has won is **53.2**. Now let us split this by year and see the distribution.\n",
        "\n"
      ]
    },
    {
      "cell_type": "markdown",
      "metadata": {
        "papermill": {
          "duration": 0.072171,
          "end_time": "2020-11-16T05:38:18.161238",
          "exception": false,
          "start_time": "2020-11-16T05:38:18.089067",
          "status": "completed"
        },
        "tags": [],
        "id": "VJXhDyM2Fb3z"
      },
      "source": [
        "**Top players of the match:**"
      ]
    },
    {
      "cell_type": "code",
      "execution_count": null,
      "metadata": {
        "execution": {
          "iopub.execute_input": "2020-11-16T05:38:18.321797Z",
          "iopub.status.busy": "2020-11-16T05:38:18.319841Z",
          "iopub.status.idle": "2020-11-16T05:38:18.322652Z",
          "shell.execute_reply": "2020-11-16T05:38:18.323221Z"
        },
        "papermill": {
          "duration": 0.086593,
          "end_time": "2020-11-16T05:38:18.323408",
          "exception": false,
          "start_time": "2020-11-16T05:38:18.236815",
          "status": "completed"
        },
        "tags": [],
        "id": "lp-qqBUPFb3z"
      },
      "outputs": [],
      "source": [
        "# create a function for labeling #\n",
        "def autolabel(rects):\n",
        "    for rect in rects:\n",
        "        height = rect.get_height()\n",
        "        ax.text(rect.get_x() + rect.get_width()/2., 1.02*height,\n",
        "                '%d' % int(height),\n",
        "                ha='center', va='bottom')"
      ]
    },
    {
      "cell_type": "code",
      "execution_count": null,
      "metadata": {
        "execution": {
          "iopub.execute_input": "2020-11-16T05:38:18.514037Z",
          "iopub.status.busy": "2020-11-16T05:38:18.506556Z",
          "iopub.status.idle": "2020-11-16T05:38:18.752730Z",
          "shell.execute_reply": "2020-11-16T05:38:18.753398Z"
        },
        "papermill": {
          "duration": 0.35775,
          "end_time": "2020-11-16T05:38:18.753564",
          "exception": false,
          "start_time": "2020-11-16T05:38:18.395814",
          "status": "completed"
        },
        "tags": [],
        "id": "-8e7shBQFb30",
        "outputId": "2a231fd7-3cb4-4d3d-b682-7faf483cef39"
      },
      "outputs": [
        {
          "data": {
            "image/png": "[encoded data removed]",
            "text/plain": [
              "<Figure size 1080x576 with 1 Axes>"
            ]
          },
          "metadata": {
            "needs_background": "light"
          },
          "output_type": "display_data"
        }
      ],
      "source": [
        "temp_series = matches_df.player_of_match.value_counts()[:10]\n",
        "labels = np.array(temp_series.index)\n",
        "ind = np.arange(len(labels))\n",
        "width = 0.9\n",
        "fig, ax = plt.subplots(figsize=(15,8))\n",
        "rects = ax.bar(ind, np.array(temp_series), width=width)\n",
        "ax.set_xticks(ind+((width)/2.))\n",
        "ax.set_xticklabels(labels, rotation='vertical')\n",
        "ax.set_ylabel(\"Count\")\n",
        "ax.set_title(\"Top player of the match awardees\")\n",
        "autolabel(rects)\n",
        "plt.show()"
      ]
    },
    {
      "cell_type": "markdown",
      "metadata": {
        "papermill": {
          "duration": 0.072086,
          "end_time": "2020-11-16T05:38:18.909432",
          "exception": false,
          "start_time": "2020-11-16T05:38:18.837346",
          "status": "completed"
        },
        "tags": [],
        "id": "soD4wKLSFb30"
      },
      "source": [
        "> **CH Gayle** is the top player of the match awardee in all the seasons of IPL."
      ]
    },
    {
      "cell_type": "markdown",
      "metadata": {
        "papermill": {
          "duration": 0.0755,
          "end_time": "2020-11-16T05:38:19.059032",
          "exception": false,
          "start_time": "2020-11-16T05:38:18.983532",
          "status": "completed"
        },
        "tags": [],
        "id": "NOSJMbA6Fb31"
      },
      "source": [
        "## Top Umpires:"
      ]
    },
    {
      "cell_type": "code",
      "execution_count": null,
      "metadata": {
        "execution": {
          "iopub.execute_input": "2020-11-16T05:38:19.229568Z",
          "iopub.status.busy": "2020-11-16T05:38:19.228506Z",
          "iopub.status.idle": "2020-11-16T05:38:19.465146Z",
          "shell.execute_reply": "2020-11-16T05:38:19.465813Z"
        },
        "papermill": {
          "duration": 0.331751,
          "end_time": "2020-11-16T05:38:19.466009",
          "exception": false,
          "start_time": "2020-11-16T05:38:19.134258",
          "status": "completed"
        },
        "tags": [],
        "id": "I5JZODu7Fb31",
        "outputId": "91b515af-2f40-4af2-959d-87c5b428b8f0"
      },
      "outputs": [
        {
          "data": {
            "image/png": "[encoded data removed]",
            "text/plain": [
              "<Figure size 1080x576 with 1 Axes>"
            ]
          },
          "metadata": {
            "needs_background": "light"
          },
          "output_type": "display_data"
        }
      ],
      "source": [
        "temp_df = pd.melt(matches_df, id_vars=['id'], value_vars=['umpire1', 'umpire2'])\n",
        "\n",
        "temp_series = temp_df.value.value_counts()[:10]\n",
        "labels = np.array(temp_series.index)\n",
        "ind = np.arange(len(labels))\n",
        "width = 0.9\n",
        "fig, ax = plt.subplots(figsize=(15,8))\n",
        "rects = ax.bar(ind, np.array(temp_series), width=width,)\n",
        "ax.set_xticks(ind+((width)/2.))\n",
        "ax.set_xticklabels(labels, rotation='vertical')\n",
        "ax.set_ylabel(\"Count\")\n",
        "ax.set_title(\"Top Umpires\")\n",
        "autolabel(rects)\n",
        "plt.show()"
      ]
    },
    {
      "cell_type": "markdown",
      "metadata": {
        "papermill": {
          "duration": 0.084126,
          "end_time": "2020-11-16T05:38:19.633359",
          "exception": false,
          "start_time": "2020-11-16T05:38:19.549233",
          "status": "completed"
        },
        "tags": [],
        "id": "Bs4tA4CuFb32"
      },
      "source": [
        "> **Dharmasena seems** to be the most sought after umpire for IPL matches followed by Ravi. Others are fairly close to each other."
      ]
    },
    {
      "cell_type": "markdown",
      "metadata": {
        "papermill": {
          "duration": 0.082945,
          "end_time": "2020-11-16T05:38:19.802538",
          "exception": false,
          "start_time": "2020-11-16T05:38:19.719593",
          "status": "completed"
        },
        "tags": [],
        "id": "4SzuWBBhFb33"
      },
      "source": [
        "# Score Data Set"
      ]
    },
    {
      "cell_type": "code",
      "execution_count": null,
      "metadata": {
        "execution": {
          "iopub.execute_input": "2020-11-16T05:38:20.000730Z",
          "iopub.status.busy": "2020-11-16T05:38:19.999477Z",
          "iopub.status.idle": "2020-11-16T05:38:20.006161Z",
          "shell.execute_reply": "2020-11-16T05:38:20.005561Z"
        },
        "papermill": {
          "duration": 0.118078,
          "end_time": "2020-11-16T05:38:20.006291",
          "exception": false,
          "start_time": "2020-11-16T05:38:19.888213",
          "status": "completed"
        },
        "tags": [],
        "id": "VeX9_-2OFb33",
        "outputId": "60d1ac85-2a51-4ef4-94b9-90a42cbd3fa0"
      },
      "outputs": [
        {
          "data": {
            "text/html": [
              "<div>\n",
              "<style scoped>\n",
              "    .dataframe tbody tr th:only-of-type {\n",
              "        vertical-align: middle;\n",
              "    }\n",
              "\n",
              "    .dataframe tbody tr th {\n",
              "        vertical-align: top;\n",
              "    }\n",
              "\n",
              "    .dataframe thead th {\n",
              "        text-align: right;\n",
              "    }\n",
              "</style>\n",
              "<table border=\"1\" class=\"dataframe\">\n",
              "  <thead>\n",
              "    <tr style=\"text-align: right;\">\n",
              "      <th></th>\n",
              "      <th>match_id</th>\n",
              "      <th>inning</th>\n",
              "      <th>batting_team</th>\n",
              "      <th>bowling_team</th>\n",
              "      <th>over</th>\n",
              "      <th>ball</th>\n",
              "      <th>batsman</th>\n",
              "      <th>non_striker</th>\n",
              "      <th>bowler</th>\n",
              "      <th>is_super_over</th>\n",
              "      <th>...</th>\n",
              "      <th>bye_runs</th>\n",
              "      <th>legbye_runs</th>\n",
              "      <th>noball_runs</th>\n",
              "      <th>penalty_runs</th>\n",
              "      <th>batsman_runs</th>\n",
              "      <th>extra_runs</th>\n",
              "      <th>total_runs</th>\n",
              "      <th>player_dismissed</th>\n",
              "      <th>dismissal_kind</th>\n",
              "      <th>fielder</th>\n",
              "    </tr>\n",
              "  </thead>\n",
              "  <tbody>\n",
              "    <tr>\n",
              "      <th>0</th>\n",
              "      <td>1</td>\n",
              "      <td>1</td>\n",
              "      <td>Sunrisers Hyderabad</td>\n",
              "      <td>Royal Challengers Bangalore</td>\n",
              "      <td>1</td>\n",
              "      <td>1</td>\n",
              "      <td>DA Warner</td>\n",
              "      <td>S Dhawan</td>\n",
              "      <td>TS Mills</td>\n",
              "      <td>0</td>\n",
              "      <td>...</td>\n",
              "      <td>0</td>\n",
              "      <td>0</td>\n",
              "      <td>0</td>\n",
              "      <td>0</td>\n",
              "      <td>0</td>\n",
              "      <td>0</td>\n",
              "      <td>0</td>\n",
              "      <td>NaN</td>\n",
              "      <td>NaN</td>\n",
              "      <td>NaN</td>\n",
              "    </tr>\n",
              "    <tr>\n",
              "      <th>1</th>\n",
              "      <td>1</td>\n",
              "      <td>1</td>\n",
              "      <td>Sunrisers Hyderabad</td>\n",
              "      <td>Royal Challengers Bangalore</td>\n",
              "      <td>1</td>\n",
              "      <td>2</td>\n",
              "      <td>DA Warner</td>\n",
              "      <td>S Dhawan</td>\n",
              "      <td>TS Mills</td>\n",
              "      <td>0</td>\n",
              "      <td>...</td>\n",
              "      <td>0</td>\n",
              "      <td>0</td>\n",
              "      <td>0</td>\n",
              "      <td>0</td>\n",
              "      <td>0</td>\n",
              "      <td>0</td>\n",
              "      <td>0</td>\n",
              "      <td>NaN</td>\n",
              "      <td>NaN</td>\n",
              "      <td>NaN</td>\n",
              "    </tr>\n",
              "    <tr>\n",
              "      <th>2</th>\n",
              "      <td>1</td>\n",
              "      <td>1</td>\n",
              "      <td>Sunrisers Hyderabad</td>\n",
              "      <td>Royal Challengers Bangalore</td>\n",
              "      <td>1</td>\n",
              "      <td>3</td>\n",
              "      <td>DA Warner</td>\n",
              "      <td>S Dhawan</td>\n",
              "      <td>TS Mills</td>\n",
              "      <td>0</td>\n",
              "      <td>...</td>\n",
              "      <td>0</td>\n",
              "      <td>0</td>\n",
              "      <td>0</td>\n",
              "      <td>0</td>\n",
              "      <td>4</td>\n",
              "      <td>0</td>\n",
              "      <td>4</td>\n",
              "      <td>NaN</td>\n",
              "      <td>NaN</td>\n",
              "      <td>NaN</td>\n",
              "    </tr>\n",
              "    <tr>\n",
              "      <th>3</th>\n",
              "      <td>1</td>\n",
              "      <td>1</td>\n",
              "      <td>Sunrisers Hyderabad</td>\n",
              "      <td>Royal Challengers Bangalore</td>\n",
              "      <td>1</td>\n",
              "      <td>4</td>\n",
              "      <td>DA Warner</td>\n",
              "      <td>S Dhawan</td>\n",
              "      <td>TS Mills</td>\n",
              "      <td>0</td>\n",
              "      <td>...</td>\n",
              "      <td>0</td>\n",
              "      <td>0</td>\n",
              "      <td>0</td>\n",
              "      <td>0</td>\n",
              "      <td>0</td>\n",
              "      <td>0</td>\n",
              "      <td>0</td>\n",
              "      <td>NaN</td>\n",
              "      <td>NaN</td>\n",
              "      <td>NaN</td>\n",
              "    </tr>\n",
              "    <tr>\n",
              "      <th>4</th>\n",
              "      <td>1</td>\n",
              "      <td>1</td>\n",
              "      <td>Sunrisers Hyderabad</td>\n",
              "      <td>Royal Challengers Bangalore</td>\n",
              "      <td>1</td>\n",
              "      <td>5</td>\n",
              "      <td>DA Warner</td>\n",
              "      <td>S Dhawan</td>\n",
              "      <td>TS Mills</td>\n",
              "      <td>0</td>\n",
              "      <td>...</td>\n",
              "      <td>0</td>\n",
              "      <td>0</td>\n",
              "      <td>0</td>\n",
              "      <td>0</td>\n",
              "      <td>0</td>\n",
              "      <td>2</td>\n",
              "      <td>2</td>\n",
              "      <td>NaN</td>\n",
              "      <td>NaN</td>\n",
              "      <td>NaN</td>\n",
              "    </tr>\n",
              "  </tbody>\n",
              "</table>\n",
              "<p>5 rows × 21 columns</p>\n",
              "</div>"
            ],
            "text/plain": [
              "   match_id  inning         batting_team                 bowling_team  over  \\\n",
              "0         1       1  Sunrisers Hyderabad  Royal Challengers Bangalore     1   \n",
              "1         1       1  Sunrisers Hyderabad  Royal Challengers Bangalore     1   \n",
              "2         1       1  Sunrisers Hyderabad  Royal Challengers Bangalore     1   \n",
              "3         1       1  Sunrisers Hyderabad  Royal Challengers Bangalore     1   \n",
              "4         1       1  Sunrisers Hyderabad  Royal Challengers Bangalore     1   \n",
              "\n",
              "   ball    batsman non_striker    bowler  is_super_over  ...  bye_runs  \\\n",
              "0     1  DA Warner    S Dhawan  TS Mills              0  ...         0   \n",
              "1     2  DA Warner    S Dhawan  TS Mills              0  ...         0   \n",
              "2     3  DA Warner    S Dhawan  TS Mills              0  ...         0   \n",
              "3     4  DA Warner    S Dhawan  TS Mills              0  ...         0   \n",
              "4     5  DA Warner    S Dhawan  TS Mills              0  ...         0   \n",
              "\n",
              "   legbye_runs  noball_runs  penalty_runs  batsman_runs  extra_runs  \\\n",
              "0            0            0             0             0           0   \n",
              "1            0            0             0             0           0   \n",
              "2            0            0             0             4           0   \n",
              "3            0            0             0             0           0   \n",
              "4            0            0             0             0           2   \n",
              "\n",
              "   total_runs  player_dismissed dismissal_kind fielder  \n",
              "0           0               NaN            NaN     NaN  \n",
              "1           0               NaN            NaN     NaN  \n",
              "2           4               NaN            NaN     NaN  \n",
              "3           0               NaN            NaN     NaN  \n",
              "4           2               NaN            NaN     NaN  \n",
              "\n",
              "[5 rows x 21 columns]"
            ]
          },
          "execution_count": 30,
          "metadata": {},
          "output_type": "execute_result"
        }
      ],
      "source": [
        "score_df.head()"
      ]
    },
    {
      "cell_type": "markdown",
      "metadata": {
        "papermill": {
          "duration": 0.076932,
          "end_time": "2020-11-16T05:38:20.161053",
          "exception": false,
          "start_time": "2020-11-16T05:38:20.084121",
          "status": "completed"
        },
        "tags": [],
        "id": "Ziji09jIFb34"
      },
      "source": [
        "## Batsman analysis:\n",
        "\n",
        "Let us start our analysis with batsman. Let us first see the ones with most number of IPL runs under their belt."
      ]
    },
    {
      "cell_type": "code",
      "execution_count": null,
      "metadata": {
        "execution": {
          "iopub.execute_input": "2020-11-16T05:38:20.329353Z",
          "iopub.status.busy": "2020-11-16T05:38:20.328410Z",
          "iopub.status.idle": "2020-11-16T05:38:20.602286Z",
          "shell.execute_reply": "2020-11-16T05:38:20.603189Z"
        },
        "papermill": {
          "duration": 0.36297,
          "end_time": "2020-11-16T05:38:20.603574",
          "exception": false,
          "start_time": "2020-11-16T05:38:20.240604",
          "status": "completed"
        },
        "tags": [],
        "id": "58ouGOH2Fb34",
        "outputId": "c4996c69-40df-4619-9187-64ae41ad2fe4"
      },
      "outputs": [
        {
          "data": {
            "image/png": "[encoded data removed]",
            "text/plain": [
              "<Figure size 1080x576 with 1 Axes>"
            ]
          },
          "metadata": {
            "needs_background": "light"
          },
          "output_type": "display_data"
        }
      ],
      "source": [
        "temp_df = score_df.groupby('batsman')['batsman_runs'].agg('sum').reset_index().sort_values(by='batsman_runs', ascending=False).reset_index(drop=True)\n",
        "temp_df = temp_df.iloc[:10,:]\n",
        "\n",
        "labels = np.array(temp_df['batsman'])\n",
        "ind = np.arange(len(labels))\n",
        "width = 0.9\n",
        "fig, ax = plt.subplots(figsize=(15,8))\n",
        "rects = ax.bar(ind, np.array(temp_df['batsman_runs']), width=width, color='blue')\n",
        "ax.set_xticks(ind+((width)/2.))\n",
        "ax.set_xticklabels(labels, rotation='vertical')\n",
        "ax.set_ylabel(\"Count\")\n",
        "ax.set_title(\"Top run scorers in IPL\")\n",
        "ax.set_xlabel('Batsmane Name')\n",
        "autolabel(rects)\n",
        "plt.show()"
      ]
    },
    {
      "cell_type": "markdown",
      "metadata": {
        "papermill": {
          "duration": 0.139237,
          "end_time": "2020-11-16T05:38:20.882877",
          "exception": false,
          "start_time": "2020-11-16T05:38:20.743640",
          "status": "completed"
        },
        "tags": [],
        "id": "0PlIpsnWFb35"
      },
      "source": [
        "> **Virat Kohli** is leading the chart followed closely by Raina. Gayle is the top scorer among foreign players."
      ]
    },
    {
      "cell_type": "code",
      "execution_count": null,
      "metadata": {
        "execution": {
          "iopub.execute_input": "2020-11-16T05:38:21.138161Z",
          "iopub.status.busy": "2020-11-16T05:38:21.136909Z",
          "iopub.status.idle": "2020-11-16T05:38:21.696124Z",
          "shell.execute_reply": "2020-11-16T05:38:21.697638Z"
        },
        "papermill": {
          "duration": 0.685522,
          "end_time": "2020-11-16T05:38:21.697869",
          "exception": false,
          "start_time": "2020-11-16T05:38:21.012347",
          "status": "completed"
        },
        "tags": [],
        "id": "WKKKMSkrFb35",
        "outputId": "5a50af60-fbb9-439e-c670-3b5f10c02e00"
      },
      "outputs": [
        {
          "data": {
            "image/png": "[encoded data removed]",
            "text/plain": [
              "<Figure size 1080x576 with 1 Axes>"
            ]
          },
          "metadata": {
            "needs_background": "light"
          },
          "output_type": "display_data"
        }
      ],
      "source": [
        "# Now let us see the players with more number of boundaries in IPL.\n",
        "temp_df = score_df.groupby('batsman')['batsman_runs'].agg(lambda x: (x==4).sum()).reset_index().sort_values(by='batsman_runs', ascending=False).reset_index(drop=True)\n",
        "temp_df = temp_df.iloc[:10,:]\n",
        "\n",
        "labels = np.array(temp_df['batsman'])\n",
        "ind = np.arange(len(labels))\n",
        "width = 0.9\n",
        "fig, ax = plt.subplots(figsize=(15,8))\n",
        "rects = ax.bar(ind, np.array(temp_df['batsman_runs']), width=width, color='lightskyblue')\n",
        "ax.set_xticks(ind+((width)/2.))\n",
        "ax.set_xticklabels(labels, rotation='vertical')\n",
        "ax.set_ylabel(\"Count\")\n",
        "ax.set_title(\"Batsman with most number of boundaries.!\",fontsize = 10)\n",
        "autolabel(rects)\n",
        "plt.show()"
      ]
    },
    {
      "cell_type": "markdown",
      "metadata": {
        "papermill": {
          "duration": 0.120934,
          "end_time": "2020-11-16T05:38:21.937782",
          "exception": false,
          "start_time": "2020-11-16T05:38:21.816848",
          "status": "completed"
        },
        "tags": [],
        "id": "WH9maVL9Fb35"
      },
      "source": [
        "> **Gambhir** is way ahead of others - almost 60 boundaries more than **Kohli**.! Nice to **Sachin** in the top 10 list :)"
      ]
    },
    {
      "cell_type": "code",
      "execution_count": null,
      "metadata": {
        "execution": {
          "iopub.execute_input": "2020-11-16T05:38:22.113180Z",
          "iopub.status.busy": "2020-11-16T05:38:22.112118Z",
          "iopub.status.idle": "2020-11-16T05:38:22.715455Z",
          "shell.execute_reply": "2020-11-16T05:38:22.716902Z"
        },
        "papermill": {
          "duration": 0.69891,
          "end_time": "2020-11-16T05:38:22.717123",
          "exception": false,
          "start_time": "2020-11-16T05:38:22.018213",
          "status": "completed"
        },
        "tags": [],
        "id": "nSgm74NwFb35",
        "outputId": "e0a1026c-9925-4dd8-c113-48ae765aabe0"
      },
      "outputs": [
        {
          "data": {
            "image/png": "[encoded data removed]",
            "text/plain": [
              "<Figure size 1080x576 with 1 Axes>"
            ]
          },
          "metadata": {
            "needs_background": "light"
          },
          "output_type": "display_data"
        }
      ],
      "source": [
        "# Now let us check the number of 6's\n",
        "temp_df = score_df.groupby('batsman')['batsman_runs'].agg(lambda x: (x==6).sum()).reset_index().sort_values(by='batsman_runs', ascending=False).reset_index(drop=True)\n",
        "temp_df = temp_df.iloc[:10,:]\n",
        "\n",
        "labels = np.array(temp_df['batsman'])\n",
        "ind = np.arange(len(labels))\n",
        "width = 0.9\n",
        "fig, ax = plt.subplots(figsize=(15,8))\n",
        "rects = ax.bar(ind, np.array(temp_df['batsman_runs']), width=width, color='m')\n",
        "ax.set_xticks(ind+((width)/2.))\n",
        "ax.set_xticklabels(labels, rotation=90)\n",
        "ax.set_ylabel(\"Count\")\n",
        "ax.set_title(\"Batsman with most number of sixes.!\")\n",
        "ax.set_xlabel('Batsmane Name')\n",
        "autolabel(rects)\n",
        "plt.show()"
      ]
    },
    {
      "cell_type": "markdown",
      "metadata": {
        "papermill": {
          "duration": 0.142173,
          "end_time": "2020-11-16T05:38:22.993188",
          "exception": false,
          "start_time": "2020-11-16T05:38:22.851015",
          "status": "completed"
        },
        "tags": [],
        "id": "i0z3klj4Fb36"
      },
      "source": [
        ">There you see the big man. **Gayle**, the unassailable leader in the number of sixes.\n",
        "\n",
        ">**Raina** is third in both number of 4's and 6's"
      ]
    },
    {
      "cell_type": "code",
      "execution_count": null,
      "metadata": {
        "execution": {
          "iopub.execute_input": "2020-11-16T05:38:23.247770Z",
          "iopub.status.busy": "2020-11-16T05:38:23.246717Z",
          "iopub.status.idle": "2020-11-16T05:38:23.756902Z",
          "shell.execute_reply": "2020-11-16T05:38:23.757567Z"
        },
        "papermill": {
          "duration": 0.644032,
          "end_time": "2020-11-16T05:38:23.757704",
          "exception": false,
          "start_time": "2020-11-16T05:38:23.113672",
          "status": "completed"
        },
        "tags": [],
        "id": "iSc7_xx8Fb36",
        "outputId": "474df6f4-be3a-414d-b87b-fa2e14061a1a"
      },
      "outputs": [
        {
          "data": {
            "image/png": "[encoded data removed]",
            "text/plain": [
              "<Figure size 1080x576 with 1 Axes>"
            ]
          },
          "metadata": {
            "needs_background": "light"
          },
          "output_type": "display_data"
        }
      ],
      "source": [
        "# Now let us see the batsman who has played the most number of dot balls.\n",
        "temp_df = score_df.groupby('batsman')['batsman_runs'].agg(lambda x: (x==0).sum()).reset_index().sort_values(by='batsman_runs', ascending=False).reset_index(drop=True)\n",
        "temp_df = temp_df.iloc[:10,:]\n",
        "\n",
        "labels = np.array(temp_df['batsman'])\n",
        "ind = np.arange(len(labels))\n",
        "width = 0.9\n",
        "fig, ax = plt.subplots(figsize=(15,8))\n",
        "rects = ax.bar(ind, np.array(temp_df['batsman_runs']), width=width, color='c')\n",
        "ax.set_xticks(ind+((width)/2.))\n",
        "ax.set_xticklabels(labels, rotation='vertical')\n",
        "ax.set_ylabel(\"Count\")\n",
        "ax.set_title(\"Batsman with most number of dot balls.!\")\n",
        "ax.set_xlabel('Batsmane Name')\n",
        "autolabel(rects)\n",
        "plt.show()"
      ]
    },
    {
      "cell_type": "markdown",
      "metadata": {
        "papermill": {
          "duration": 0.084658,
          "end_time": "2020-11-16T05:38:23.922876",
          "exception": false,
          "start_time": "2020-11-16T05:38:23.838218",
          "status": "completed"
        },
        "tags": [],
        "id": "6BXDpEfmFb36"
      },
      "source": [
        ">It is interesting to see that the same names repeat again here as well. I think since these guys have played more number of balls, they have more dot balls as well."
      ]
    },
    {
      "cell_type": "code",
      "execution_count": null,
      "metadata": {
        "execution": {
          "iopub.execute_input": "2020-11-16T05:38:24.106003Z",
          "iopub.status.busy": "2020-11-16T05:38:24.094985Z",
          "iopub.status.idle": "2020-11-16T05:38:24.586383Z",
          "shell.execute_reply": "2020-11-16T05:38:24.587109Z"
        },
        "papermill": {
          "duration": 0.581679,
          "end_time": "2020-11-16T05:38:24.587310",
          "exception": false,
          "start_time": "2020-11-16T05:38:24.005631",
          "status": "completed"
        },
        "tags": [],
        "id": "ZkHa_oUYFb36",
        "outputId": "97ff3bb0-0e3d-4c85-d2a1-5dc4a2295aa9"
      },
      "outputs": [
        {
          "data": {
            "image/png": "[encoded data removed]",
            "text/plain": [
              "<Figure size 1080x576 with 2 Axes>"
            ]
          },
          "metadata": {
            "needs_background": "light"
          },
          "output_type": "display_data"
        }
      ],
      "source": [
        "# Let us check the percentage distribution now.\n",
        "def balls_faced(x):\n",
        "    return len(x)\n",
        "\n",
        "def dot_balls(x):\n",
        "    return (x==0).sum()\n",
        "\n",
        "temp_df = score_df.groupby('batsman')['batsman_runs'].agg([balls_faced, dot_balls]).reset_index()\n",
        "temp_df = temp_df.loc[temp_df.balls_faced>200,:]\n",
        "temp_df['percentage_of_dot_balls'] = (temp_df['dot_balls'] / temp_df['balls_faced'])*100.\n",
        "temp_df = temp_df.sort_values(by='percentage_of_dot_balls', ascending=False).reset_index(drop=True)\n",
        "temp_df = temp_df.iloc[:10,:]\n",
        "\n",
        "fig, ax1 = plt.subplots(figsize=(15,8))\n",
        "ax2 = ax1.twinx()\n",
        "labels = np.array(temp_df['batsman'])\n",
        "ind = np.arange(len(labels))\n",
        "width = 0.9\n",
        "rects = ax1.bar(ind, np.array(temp_df['dot_balls']), width=width, color='brown')\n",
        "ax1.set_xticks(ind+((width)/2.))\n",
        "ax1.set_xticklabels(labels, rotation='vertical')\n",
        "ax1.set_ylabel(\"Count of dot balls\", color='brown')\n",
        "ax1.set_title(\"Batsman with highest percentage of dot balls (balls faced > 200)\")\n",
        "ax2.plot(ind+0.45, np.array(temp_df['percentage_of_dot_balls']), color='b', marker='o')\n",
        "ax2.set_ylabel(\"Percentage of dot balls\", color='b')\n",
        "ax2.set_ylim([0,100])\n",
        "ax2.grid(b=False)\n",
        "plt.show()"
      ]
    },
    {
      "cell_type": "markdown",
      "metadata": {
        "papermill": {
          "duration": 0.083996,
          "end_time": "2020-11-16T05:38:24.755737",
          "exception": false,
          "start_time": "2020-11-16T05:38:24.671741",
          "status": "completed"
        },
        "tags": [],
        "id": "TQ783tvYFb37"
      },
      "source": [
        "> Batsman with more than 300 balls faced in taken and the ones with higher percentage of dot balls are seen. It is interesting to see Ganguly with more than 1000 balls and nearly half of them are dot balls. It is surprising to see names like **Jayasuriya** and **Gibbs** in there.!"
      ]
    },
    {
      "cell_type": "markdown",
      "metadata": {
        "papermill": {
          "duration": 0.084815,
          "end_time": "2020-11-16T05:38:24.923920",
          "exception": false,
          "start_time": "2020-11-16T05:38:24.839105",
          "status": "completed"
        },
        "tags": [],
        "id": "SXbctp_5Fb37"
      },
      "source": [
        "## Bowler Analysis\n",
        "\n",
        "Now let us see the bowlers who has bowled most number of balls in IPL."
      ]
    },
    {
      "cell_type": "code",
      "execution_count": null,
      "metadata": {
        "execution": {
          "iopub.execute_input": "2020-11-16T05:38:25.105697Z",
          "iopub.status.busy": "2020-11-16T05:38:25.099440Z",
          "iopub.status.idle": "2020-11-16T05:38:25.491847Z",
          "shell.execute_reply": "2020-11-16T05:38:25.492428Z"
        },
        "papermill": {
          "duration": 0.484496,
          "end_time": "2020-11-16T05:38:25.492581",
          "exception": false,
          "start_time": "2020-11-16T05:38:25.008085",
          "status": "completed"
        },
        "tags": [],
        "id": "iMTdNwM-Fb37",
        "outputId": "5dc35a30-f753-46eb-cb46-0f2b0ac63934"
      },
      "outputs": [
        {
          "data": {
            "image/png": "[encoded data removed]",
            "text/plain": [
              "<Figure size 1080x576 with 1 Axes>"
            ]
          },
          "metadata": {
            "needs_background": "light"
          },
          "output_type": "display_data"
        }
      ],
      "source": [
        "temp_df = score_df.groupby('bowler')['ball'].agg('count').reset_index().sort_values(by='ball', ascending=False).reset_index(drop=True)\n",
        "temp_df = temp_df.iloc[:10,:]\n",
        "\n",
        "labels = np.array(temp_df['bowler'])\n",
        "ind = np.arange(len(labels))\n",
        "width = 0.9\n",
        "fig, ax = plt.subplots(figsize=(15,8))\n",
        "rects = ax.bar(ind, np.array(temp_df['ball']), width=width, color='cyan')\n",
        "ax.set_xticks(ind+((width)/2.))\n",
        "ax.set_xticklabels(labels, rotation='vertical')\n",
        "ax.set_ylabel(\"Count\")\n",
        "ax.set_title(\"Top Bowlers - Number of balls bowled in IPL\")\n",
        "ax.set_xlabel('Bowler Names')\n",
        "autolabel(rects)\n",
        "plt.show()"
      ]
    },
    {
      "cell_type": "markdown",
      "metadata": {
        "papermill": {
          "duration": 0.08394,
          "end_time": "2020-11-16T05:38:25.661479",
          "exception": false,
          "start_time": "2020-11-16T05:38:25.577539",
          "status": "completed"
        },
        "tags": [],
        "id": "9MrNTh9RFb37"
      },
      "source": [
        ">**Harbhajan Singh** is the the bowler with most number of balls bowled in IPL matches. Now let us see the bowler with more number of dot balls."
      ]
    },
    {
      "cell_type": "code",
      "execution_count": null,
      "metadata": {
        "execution": {
          "iopub.execute_input": "2020-11-16T05:38:25.849002Z",
          "iopub.status.busy": "2020-11-16T05:38:25.848209Z",
          "iopub.status.idle": "2020-11-16T05:38:26.200909Z",
          "shell.execute_reply": "2020-11-16T05:38:26.200372Z"
        },
        "papermill": {
          "duration": 0.453344,
          "end_time": "2020-11-16T05:38:26.201023",
          "exception": false,
          "start_time": "2020-11-16T05:38:25.747679",
          "status": "completed"
        },
        "tags": [],
        "id": "kC9n1HMXFb38",
        "outputId": "63ed4b25-219c-4fab-f1a3-5b79fd3b74f9"
      },
      "outputs": [
        {
          "data": {
            "image/png": "[encoded data removed]",
            "text/plain": [
              "<Figure size 1080x576 with 1 Axes>"
            ]
          },
          "metadata": {
            "needs_background": "light"
          },
          "output_type": "display_data"
        }
      ],
      "source": [
        "temp_df = score_df.groupby('bowler')['total_runs'].agg(lambda x: (x==0).sum()).reset_index().sort_values(by='total_runs', ascending=False).reset_index(drop=True)\n",
        "temp_df = temp_df.iloc[:10,:]\n",
        "\n",
        "labels = np.array(temp_df['bowler'])\n",
        "ind = np.arange(len(labels))\n",
        "width = 0.9\n",
        "fig, ax = plt.subplots(figsize=(15,8))\n",
        "rects = ax.bar(ind, np.array(temp_df['total_runs']), width=width, color='lightskyblue')\n",
        "ax.set_xticks(ind+((width)/2.))\n",
        "ax.set_xticklabels(labels, rotation='vertical')\n",
        "ax.set_ylabel(\"Count\")\n",
        "ax.set_title(\"Top Bowlers - Number of dot balls bowled in IPL\")\n",
        "ax.set_xlabel('Bowler Names')\n",
        "autolabel(rects)\n",
        "plt.show()"
      ]
    },
    {
      "cell_type": "markdown",
      "metadata": {
        "papermill": {
          "duration": 0.085933,
          "end_time": "2020-11-16T05:38:26.375303",
          "exception": false,
          "start_time": "2020-11-16T05:38:26.289370",
          "status": "completed"
        },
        "tags": [],
        "id": "EpYP0shZFb38"
      },
      "source": [
        ">**Pravin Kumar** is the one with more number of dot balls followed by **Steyn and Malinga**"
      ]
    },
    {
      "cell_type": "code",
      "execution_count": null,
      "metadata": {
        "execution": {
          "iopub.execute_input": "2020-11-16T05:38:26.564875Z",
          "iopub.status.busy": "2020-11-16T05:38:26.563931Z",
          "iopub.status.idle": "2020-11-16T05:38:26.920033Z",
          "shell.execute_reply": "2020-11-16T05:38:26.920631Z"
        },
        "papermill": {
          "duration": 0.457779,
          "end_time": "2020-11-16T05:38:26.920819",
          "exception": false,
          "start_time": "2020-11-16T05:38:26.463040",
          "status": "completed"
        },
        "tags": [],
        "id": "58SNG_v7Fb38",
        "outputId": "86db342e-e37a-47b9-cc2a-38b423430559"
      },
      "outputs": [
        {
          "data": {
            "image/png": "[encoded data removed]",
            "text/plain": [
              "<Figure size 1080x576 with 1 Axes>"
            ]
          },
          "metadata": {
            "needs_background": "light"
          },
          "output_type": "display_data"
        }
      ],
      "source": [
        "# Now let us see the bowlers who has bowled more number of extras in IPL.\n",
        "temp_df = score_df.groupby('bowler')['extra_runs'].agg(lambda x: (x>0).sum()).reset_index().sort_values(by='extra_runs', ascending=False).reset_index(drop=True)\n",
        "temp_df = temp_df.iloc[:10,:]\n",
        "\n",
        "labels = np.array(temp_df['bowler'])\n",
        "ind = np.arange(len(labels))\n",
        "width = 0.9\n",
        "fig, ax = plt.subplots(figsize=(15,8))\n",
        "rects = ax.bar(ind, np.array(temp_df['extra_runs']), width=width, color='magenta')\n",
        "ax.set_xticks(ind+((width)/2.))\n",
        "ax.set_xticklabels(labels, rotation='vertical')\n",
        "ax.set_ylabel(\"Count\")\n",
        "ax.set_title(\"Bowlers with more extras in IPL\")\n",
        "ax.set_xlabel('Bowler Names')\n",
        "autolabel(rects)\n",
        "plt.show()"
      ]
    },
    {
      "cell_type": "markdown",
      "metadata": {
        "papermill": {
          "duration": 0.08832,
          "end_time": "2020-11-16T05:38:27.107863",
          "exception": false,
          "start_time": "2020-11-16T05:38:27.019543",
          "status": "completed"
        },
        "tags": [],
        "id": "oxrwxyiZFb38"
      },
      "source": [
        ">**Malinga** tops the chart with 221 extra runs followed by **Pravin Kumar.**"
      ]
    },
    {
      "cell_type": "code",
      "execution_count": null,
      "metadata": {
        "execution": {
          "iopub.execute_input": "2020-11-16T05:38:27.334370Z",
          "iopub.status.busy": "2020-11-16T05:38:27.313239Z",
          "iopub.status.idle": "2020-11-16T05:38:27.538699Z",
          "shell.execute_reply": "2020-11-16T05:38:27.539373Z"
        },
        "papermill": {
          "duration": 0.343716,
          "end_time": "2020-11-16T05:38:27.539541",
          "exception": false,
          "start_time": "2020-11-16T05:38:27.195825",
          "status": "completed"
        },
        "tags": [],
        "id": "9icZ2OpJFb39",
        "outputId": "a101b8ed-2493-4500-cb30-75ae55795875"
      },
      "outputs": [
        {
          "data": {
            "image/png": "[encoded data removed]",
            "text/plain": [
              "<Figure size 864x432 with 1 Axes>"
            ]
          },
          "metadata": {
            "needs_background": "light"
          },
          "output_type": "display_data"
        }
      ],
      "source": [
        "# Now let us see most common dismissal types in IPL.\n",
        "plt.figure(figsize=(12,6))\n",
        "sns.countplot(x='dismissal_kind', data=score_df)\n",
        "plt.xticks(rotation='vertical')\n",
        "plt.show()"
      ]
    },
    {
      "cell_type": "markdown",
      "metadata": {
        "papermill": {
          "duration": 0.089371,
          "end_time": "2020-11-16T05:38:27.724635",
          "exception": false,
          "start_time": "2020-11-16T05:38:27.635264",
          "status": "completed"
        },
        "tags": [],
        "id": "iG4ZLY9gFb39"
      },
      "source": [
        ">**Caught** is the most common dismissal type in IPL followed by Bowled. There are very few instances of hit wicket as well. **'Obstructing the field'** is one of the dismissal type as well in IPL.!"
      ]
    }
  ],
  "metadata": {
    "kernelspec": {
      "display_name": "Python 3",
      "language": "python",
      "name": "python3"
    },
    "language_info": {
      "codemirror_mode": {
        "name": "ipython",
        "version": 3
      },
      "file_extension": ".py",
      "mimetype": "text/x-python",
      "name": "python",
      "nbconvert_exporter": "python",
      "pygments_lexer": "ipython3",
      "version": "3.7.6"
    },
    "papermill": {
      "duration": 25.723642,
      "end_time": "2020-11-16T05:38:28.278094",
      "environment_variables": {},
      "exception": null,
      "input_path": "__notebook__.ipynb",
      "output_path": "__notebook__.ipynb",
      "parameters": {},
      "start_time": "2020-11-16T05:38:02.554452",
      "version": "2.1.0"
    },
    "colab": {
      "provenance": [],
      "include_colab_link": true
    }
  },
  "nbformat": 4,
  "nbformat_minor": 0
}